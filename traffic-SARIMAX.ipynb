{
 "cells": [
  {
   "cell_type": "code",
   "execution_count": 2,
   "id": "5ac8c453-5ceb-429e-8dc5-4b5cce4b7e66",
   "metadata": {},
   "outputs": [],
   "source": [
    "import pandas as pd\n",
    "import numpy as np\n",
    "import matplotlib.pyplot as plt\n",
    "\n",
    "from sklearn.model_selection import train_test_split\n",
    "from sklearn.metrics import mean_squared_error\n",
    "\n",
    "import statsmodels.api as sm\n",
    "\n",
    "from statsmodels.graphics.tsaplots import plot_acf\n",
    "from statsmodels.graphics.tsaplots import plot_pacf\n",
    "from statsmodels.tsa.statespace.sarimax import SARIMAX\n"
   ]
  },
  {
   "cell_type": "markdown",
   "id": "db474a58-6e06-46ea-9348-05485ab14456",
   "metadata": {},
   "source": [
    "### Read in and convert to date to datetime"
   ]
  },
  {
   "cell_type": "code",
   "execution_count": 8,
   "id": "58fcb3a7-b704-418f-a11c-a477696cf9f6",
   "metadata": {},
   "outputs": [],
   "source": [
    "traffic = pd.read_csv('training_Traffic.csv')"
   ]
  },
  {
   "cell_type": "code",
   "execution_count": 9,
   "id": "0d4e166b-ab24-4ce7-bdb2-d15a4c696bd1",
   "metadata": {},
   "outputs": [
    {
     "data": {
      "text/html": [
       "<div>\n",
       "<style scoped>\n",
       "    .dataframe tbody tr th:only-of-type {\n",
       "        vertical-align: middle;\n",
       "    }\n",
       "\n",
       "    .dataframe tbody tr th {\n",
       "        vertical-align: top;\n",
       "    }\n",
       "\n",
       "    .dataframe thead th {\n",
       "        text-align: right;\n",
       "    }\n",
       "</style>\n",
       "<table border=\"1\" class=\"dataframe\">\n",
       "  <thead>\n",
       "    <tr style=\"text-align: right;\">\n",
       "      <th></th>\n",
       "      <th>traffic</th>\n",
       "    </tr>\n",
       "    <tr>\n",
       "      <th>Date</th>\n",
       "      <th></th>\n",
       "    </tr>\n",
       "  </thead>\n",
       "  <tbody>\n",
       "    <tr>\n",
       "      <th>2015-01-01 10:00:00</th>\n",
       "      <td>0</td>\n",
       "    </tr>\n",
       "    <tr>\n",
       "      <th>2015-01-01 10:15:00</th>\n",
       "      <td>1</td>\n",
       "    </tr>\n",
       "    <tr>\n",
       "      <th>2015-01-01 10:30:00</th>\n",
       "      <td>4</td>\n",
       "    </tr>\n",
       "    <tr>\n",
       "      <th>2015-01-01 10:45:00</th>\n",
       "      <td>3</td>\n",
       "    </tr>\n",
       "    <tr>\n",
       "      <th>2015-01-01 11:00:00</th>\n",
       "      <td>1</td>\n",
       "    </tr>\n",
       "  </tbody>\n",
       "</table>\n",
       "</div>"
      ],
      "text/plain": [
       "                     traffic\n",
       "Date                        \n",
       "2015-01-01 10:00:00        0\n",
       "2015-01-01 10:15:00        1\n",
       "2015-01-01 10:30:00        4\n",
       "2015-01-01 10:45:00        3\n",
       "2015-01-01 11:00:00        1"
      ]
     },
     "execution_count": 9,
     "metadata": {},
     "output_type": "execute_result"
    }
   ],
   "source": [
    "# convert to datatime\n",
    "traffic['Date'] = pd.to_datetime(traffic['Date'])\n",
    "traffic.set_index('Date', inplace = True)\n",
    "traffic.sort_index(inplace = True)\n",
    "traffic.columns = ['traffic']\n",
    "traffic.head()"
   ]
  },
  {
   "cell_type": "markdown",
   "id": "f41a73f8-0579-468b-9c59-eb8b94b4881e",
   "metadata": {},
   "source": [
    "## Explore the data"
   ]
  },
  {
   "cell_type": "code",
   "execution_count": 10,
   "id": "139e272d-3bd7-4da4-ba8a-20a8ec3e8e29",
   "metadata": {},
   "outputs": [
    {
     "data": {
      "image/png": "[encoded data removed]",
      "text/plain": [
       "<Figure size 432x288 with 1 Axes>"
      ]
     },
     "metadata": {
      "needs_background": "light"
     },
     "output_type": "display_data"
    }
   ],
   "source": [
    "traffic.plot();"
   ]
  },
  {
   "cell_type": "markdown",
   "id": "6c28e29b-270b-49a3-aa7e-f1db9eab8a69",
   "metadata": {},
   "source": [
    " The initial plot is hard to interpret.  There seems to be some spikes, and one very large traffic day"
   ]
  },
  {
   "cell_type": "code",
   "execution_count": 11,
   "id": "3807bb58-0822-44df-9364-2a26d08d710f",
   "metadata": {},
   "outputs": [
    {
     "data": {
      "text/html": [
       "<div>\n",
       "<style scoped>\n",
       "    .dataframe tbody tr th:only-of-type {\n",
       "        vertical-align: middle;\n",
       "    }\n",
       "\n",
       "    .dataframe tbody tr th {\n",
       "        vertical-align: top;\n",
       "    }\n",
       "\n",
       "    .dataframe thead th {\n",
       "        text-align: right;\n",
       "    }\n",
       "</style>\n",
       "<table border=\"1\" class=\"dataframe\">\n",
       "  <thead>\n",
       "    <tr style=\"text-align: right;\">\n",
       "      <th></th>\n",
       "      <th>traffic</th>\n",
       "    </tr>\n",
       "    <tr>\n",
       "      <th>Date</th>\n",
       "      <th></th>\n",
       "    </tr>\n",
       "  </thead>\n",
       "  <tbody>\n",
       "    <tr>\n",
       "      <th>2017-06-01</th>\n",
       "      <td>135</td>\n",
       "    </tr>\n",
       "    <tr>\n",
       "      <th>2017-06-02</th>\n",
       "      <td>170</td>\n",
       "    </tr>\n",
       "    <tr>\n",
       "      <th>2017-06-03</th>\n",
       "      <td>260</td>\n",
       "    </tr>\n",
       "    <tr>\n",
       "      <th>2017-06-04</th>\n",
       "      <td>209</td>\n",
       "    </tr>\n",
       "    <tr>\n",
       "      <th>2017-06-05</th>\n",
       "      <td>154</td>\n",
       "    </tr>\n",
       "    <tr>\n",
       "      <th>2017-06-06</th>\n",
       "      <td>140</td>\n",
       "    </tr>\n",
       "    <tr>\n",
       "      <th>2017-06-07</th>\n",
       "      <td>146</td>\n",
       "    </tr>\n",
       "    <tr>\n",
       "      <th>2017-06-08</th>\n",
       "      <td>150</td>\n",
       "    </tr>\n",
       "    <tr>\n",
       "      <th>2017-06-09</th>\n",
       "      <td>178</td>\n",
       "    </tr>\n",
       "    <tr>\n",
       "      <th>2017-06-10</th>\n",
       "      <td>260</td>\n",
       "    </tr>\n",
       "    <tr>\n",
       "      <th>2017-06-11</th>\n",
       "      <td>229</td>\n",
       "    </tr>\n",
       "    <tr>\n",
       "      <th>2017-06-12</th>\n",
       "      <td>133</td>\n",
       "    </tr>\n",
       "    <tr>\n",
       "      <th>2017-06-13</th>\n",
       "      <td>162</td>\n",
       "    </tr>\n",
       "    <tr>\n",
       "      <th>2017-06-14</th>\n",
       "      <td>164</td>\n",
       "    </tr>\n",
       "    <tr>\n",
       "      <th>2017-06-15</th>\n",
       "      <td>158</td>\n",
       "    </tr>\n",
       "    <tr>\n",
       "      <th>2017-06-16</th>\n",
       "      <td>185</td>\n",
       "    </tr>\n",
       "    <tr>\n",
       "      <th>2017-06-17</th>\n",
       "      <td>280</td>\n",
       "    </tr>\n",
       "    <tr>\n",
       "      <th>2017-06-18</th>\n",
       "      <td>206</td>\n",
       "    </tr>\n",
       "    <tr>\n",
       "      <th>2017-06-19</th>\n",
       "      <td>192</td>\n",
       "    </tr>\n",
       "    <tr>\n",
       "      <th>2017-06-20</th>\n",
       "      <td>176</td>\n",
       "    </tr>\n",
       "    <tr>\n",
       "      <th>2017-06-21</th>\n",
       "      <td>160</td>\n",
       "    </tr>\n",
       "    <tr>\n",
       "      <th>2017-06-22</th>\n",
       "      <td>144</td>\n",
       "    </tr>\n",
       "    <tr>\n",
       "      <th>2017-06-23</th>\n",
       "      <td>178</td>\n",
       "    </tr>\n",
       "    <tr>\n",
       "      <th>2017-06-24</th>\n",
       "      <td>216</td>\n",
       "    </tr>\n",
       "    <tr>\n",
       "      <th>2017-06-25</th>\n",
       "      <td>193</td>\n",
       "    </tr>\n",
       "    <tr>\n",
       "      <th>2017-06-26</th>\n",
       "      <td>128</td>\n",
       "    </tr>\n",
       "    <tr>\n",
       "      <th>2017-06-27</th>\n",
       "      <td>128</td>\n",
       "    </tr>\n",
       "    <tr>\n",
       "      <th>2017-06-28</th>\n",
       "      <td>138</td>\n",
       "    </tr>\n",
       "    <tr>\n",
       "      <th>2017-06-29</th>\n",
       "      <td>144</td>\n",
       "    </tr>\n",
       "    <tr>\n",
       "      <th>2017-06-30</th>\n",
       "      <td>187</td>\n",
       "    </tr>\n",
       "  </tbody>\n",
       "</table>\n",
       "</div>"
      ],
      "text/plain": [
       "            traffic\n",
       "Date               \n",
       "2017-06-01      135\n",
       "2017-06-02      170\n",
       "2017-06-03      260\n",
       "2017-06-04      209\n",
       "2017-06-05      154\n",
       "2017-06-06      140\n",
       "2017-06-07      146\n",
       "2017-06-08      150\n",
       "2017-06-09      178\n",
       "2017-06-10      260\n",
       "2017-06-11      229\n",
       "2017-06-12      133\n",
       "2017-06-13      162\n",
       "2017-06-14      164\n",
       "2017-06-15      158\n",
       "2017-06-16      185\n",
       "2017-06-17      280\n",
       "2017-06-18      206\n",
       "2017-06-19      192\n",
       "2017-06-20      176\n",
       "2017-06-21      160\n",
       "2017-06-22      144\n",
       "2017-06-23      178\n",
       "2017-06-24      216\n",
       "2017-06-25      193\n",
       "2017-06-26      128\n",
       "2017-06-27      128\n",
       "2017-06-28      138\n",
       "2017-06-29      144\n",
       "2017-06-30      187"
      ]
     },
     "execution_count": 11,
     "metadata": {},
     "output_type": "execute_result"
    }
   ],
   "source": [
    "#Since we are predicting June 2018 look at June 2017\n",
    "prev_month_total = traffic['2017-06'].resample('d').sum().dropna()\n",
    "prev_month_total"
   ]
  },
  {
   "cell_type": "code",
   "execution_count": 12,
   "id": "06bc2192-b7f0-413d-b2fa-938f7113c454",
   "metadata": {},
   "outputs": [
    {
     "data": {
      "text/html": [
       "<div>\n",
       "<style scoped>\n",
       "    .dataframe tbody tr th:only-of-type {\n",
       "        vertical-align: middle;\n",
       "    }\n",
       "\n",
       "    .dataframe tbody tr th {\n",
       "        vertical-align: top;\n",
       "    }\n",
       "\n",
       "    .dataframe thead th {\n",
       "        text-align: right;\n",
       "    }\n",
       "</style>\n",
       "<table border=\"1\" class=\"dataframe\">\n",
       "  <thead>\n",
       "    <tr style=\"text-align: right;\">\n",
       "      <th></th>\n",
       "      <th>traffic</th>\n",
       "    </tr>\n",
       "  </thead>\n",
       "  <tbody>\n",
       "    <tr>\n",
       "      <th>count</th>\n",
       "      <td>30.000000</td>\n",
       "    </tr>\n",
       "    <tr>\n",
       "      <th>mean</th>\n",
       "      <td>176.766667</td>\n",
       "    </tr>\n",
       "    <tr>\n",
       "      <th>std</th>\n",
       "      <td>40.686084</td>\n",
       "    </tr>\n",
       "    <tr>\n",
       "      <th>min</th>\n",
       "      <td>128.000000</td>\n",
       "    </tr>\n",
       "    <tr>\n",
       "      <th>25%</th>\n",
       "      <td>144.500000</td>\n",
       "    </tr>\n",
       "    <tr>\n",
       "      <th>50%</th>\n",
       "      <td>167.000000</td>\n",
       "    </tr>\n",
       "    <tr>\n",
       "      <th>75%</th>\n",
       "      <td>192.750000</td>\n",
       "    </tr>\n",
       "    <tr>\n",
       "      <th>max</th>\n",
       "      <td>280.000000</td>\n",
       "    </tr>\n",
       "  </tbody>\n",
       "</table>\n",
       "</div>"
      ],
      "text/plain": [
       "          traffic\n",
       "count   30.000000\n",
       "mean   176.766667\n",
       "std     40.686084\n",
       "min    128.000000\n",
       "25%    144.500000\n",
       "50%    167.000000\n",
       "75%    192.750000\n",
       "max    280.000000"
      ]
     },
     "execution_count": 12,
     "metadata": {},
     "output_type": "execute_result"
    }
   ],
   "source": [
    "prev_month_total.describe()"
   ]
  },
  {
   "cell_type": "code",
   "execution_count": 13,
   "id": "700ed233-16ef-49f0-834a-709f0c600eca",
   "metadata": {},
   "outputs": [
    {
     "data": {
      "text/html": [
       "<div>\n",
       "<style scoped>\n",
       "    .dataframe tbody tr th:only-of-type {\n",
       "        vertical-align: middle;\n",
       "    }\n",
       "\n",
       "    .dataframe tbody tr th {\n",
       "        vertical-align: top;\n",
       "    }\n",
       "\n",
       "    .dataframe thead th {\n",
       "        text-align: right;\n",
       "    }\n",
       "</style>\n",
       "<table border=\"1\" class=\"dataframe\">\n",
       "  <thead>\n",
       "    <tr style=\"text-align: right;\">\n",
       "      <th></th>\n",
       "      <th>traffic</th>\n",
       "    </tr>\n",
       "  </thead>\n",
       "  <tbody>\n",
       "    <tr>\n",
       "      <th>count</th>\n",
       "      <td>30.000000</td>\n",
       "    </tr>\n",
       "    <tr>\n",
       "      <th>mean</th>\n",
       "      <td>3.740784</td>\n",
       "    </tr>\n",
       "    <tr>\n",
       "      <th>std</th>\n",
       "      <td>1.087887</td>\n",
       "    </tr>\n",
       "    <tr>\n",
       "      <th>min</th>\n",
       "      <td>2.415094</td>\n",
       "    </tr>\n",
       "    <tr>\n",
       "      <th>25%</th>\n",
       "      <td>2.906250</td>\n",
       "    </tr>\n",
       "    <tr>\n",
       "      <th>50%</th>\n",
       "      <td>3.392390</td>\n",
       "    </tr>\n",
       "    <tr>\n",
       "      <th>75%</th>\n",
       "      <td>4.286902</td>\n",
       "    </tr>\n",
       "    <tr>\n",
       "      <th>max</th>\n",
       "      <td>6.026316</td>\n",
       "    </tr>\n",
       "  </tbody>\n",
       "</table>\n",
       "</div>"
      ],
      "text/plain": [
       "         traffic\n",
       "count  30.000000\n",
       "mean    3.740784\n",
       "std     1.087887\n",
       "min     2.415094\n",
       "25%     2.906250\n",
       "50%     3.392390\n",
       "75%     4.286902\n",
       "max     6.026316"
      ]
     },
     "execution_count": 13,
     "metadata": {},
     "output_type": "execute_result"
    }
   ],
   "source": [
    "#look at the mean traffic for each day of the previous years month\n",
    "prev_month_mean = traffic['2017-06'].resample('d').mean().dropna()\n",
    "prev_month_mean.describe()"
   ]
  },
  {
   "cell_type": "code",
   "execution_count": 14,
   "id": "b8348432-21cc-4adf-9af8-83c6c5d59a0d",
   "metadata": {},
   "outputs": [
    {
     "data": {
      "image/png": "[encoded data removed]",
      "text/plain": [
       "<Figure size 432x288 with 1 Axes>"
      ]
     },
     "metadata": {
      "needs_background": "light"
     },
     "output_type": "display_data"
    }
   ],
   "source": [
    "traffic_month = traffic.resample('M').mean()\n",
    "traffic_month.plot();"
   ]
  },
  {
   "cell_type": "markdown",
   "id": "ede3071b-f735-436c-8e18-26750d5852f3",
   "metadata": {},
   "source": [
    "Unlike sales the traffic is pretty consistent across the month of December"
   ]
  },
  {
   "cell_type": "code",
   "execution_count": 15,
   "id": "eb57e26f-50df-43f7-b11f-4f8573631b0d",
   "metadata": {},
   "outputs": [
    {
     "data": {
      "image/png": "[encoded data removed]",
      "text/plain": [
       "<Figure size 432x288 with 1 Axes>"
      ]
     },
     "metadata": {
      "needs_background": "light"
     },
     "output_type": "display_data"
    }
   ],
   "source": [
    "traffic_2017 = traffic['2017'].resample('M').mean()\n",
    "traffic_2017.plot();"
   ]
  },
  {
   "cell_type": "code",
   "execution_count": 16,
   "id": "ede6950e-e263-4603-b656-106d366a393c",
   "metadata": {},
   "outputs": [
    {
     "data": {
      "image/png": "[encoded data removed]",
      "text/plain": [
       "<Figure size 1440x720 with 4 Axes>"
      ]
     },
     "metadata": {
      "needs_background": "light"
     },
     "output_type": "display_data"
    }
   ],
   "source": [
    "fig, ax = plt.subplots(2,2, figsize=(20,10))\n",
    "\n",
    "\n",
    "#ax[0,0].plot(traffic['2014'].resample('M').mean())\n",
    "\n",
    "ax[1,0].plot(traffic['2015'].resample('M').mean())\n",
    "ax[0,1].plot(traffic['2016'].resample('M').mean())\n",
    "ax[1,1].plot(traffic['2017'].resample('M').mean())\n",
    "plt.show();"
   ]
  },
  {
   "cell_type": "markdown",
   "id": "1d767ff0-ce55-4481-a388-15b3af4517c3",
   "metadata": {},
   "source": [
    "Investigating the other 3 cyclic spikes in traffic they appear to be every August and then in early spring/summer (April, May, or June) and at the begining of the year in February."
   ]
  },
  {
   "cell_type": "code",
   "execution_count": 17,
   "id": "29cca097-feff-4a05-a085-acafa5e767a5",
   "metadata": {},
   "outputs": [
    {
     "data": {
      "image/png": "[encoded data removed]",
      "text/plain": [
       "<Figure size 432x288 with 1 Axes>"
      ]
     },
     "metadata": {
      "needs_background": "light"
     },
     "output_type": "display_data"
    }
   ],
   "source": [
    "#What does a typical week look like (Sunday to Saturday)\n",
    "traffic_2017_week = traffic.loc['2017-06-04': '2017-06-10'].resample('D').mean()\n",
    "traffic_2017_week.plot();"
   ]
  },
  {
   "cell_type": "code",
   "execution_count": 18,
   "id": "cac03149-743d-4349-be42-02f7e867dc17",
   "metadata": {},
   "outputs": [
    {
     "data": {
      "image/png": "[encoded data removed]",
      "text/plain": [
       "<Figure size 432x288 with 1 Axes>"
      ]
     },
     "metadata": {
      "needs_background": "light"
     },
     "output_type": "display_data"
    }
   ],
   "source": [
    "traffic_2017_week = traffic.loc['2017-06-11': '2017-06-17'].resample('D').mean()\n",
    "traffic_2017_week.plot();"
   ]
  },
  {
   "cell_type": "code",
   "execution_count": 19,
   "id": "cea16b80-dc14-4efa-8e69-3ce2078fe4a3",
   "metadata": {},
   "outputs": [
    {
     "data": {
      "image/png": "[encoded data removed]",
      "text/plain": [
       "<Figure size 432x288 with 1 Axes>"
      ]
     },
     "metadata": {
      "needs_background": "light"
     },
     "output_type": "display_data"
    }
   ],
   "source": [
    "traffic_2017_week = traffic.loc['2017-06-18': '2017-06-24'].resample('D').mean()\n",
    "traffic_2017_week.plot();"
   ]
  },
  {
   "cell_type": "code",
   "execution_count": 20,
   "id": "98147b89-5777-4239-a871-85a68142bb8a",
   "metadata": {},
   "outputs": [
    {
     "data": {
      "image/png": "[encoded data removed]",
      "text/plain": [
       "<Figure size 432x288 with 1 Axes>"
      ]
     },
     "metadata": {
      "needs_background": "light"
     },
     "output_type": "display_data"
    }
   ],
   "source": [
    "traffic_2017_week = traffic.loc['2017-06-25': '2017-07-01'].resample('D').mean()\n",
    "traffic_2017_week.plot();"
   ]
  },
  {
   "cell_type": "markdown",
   "id": "3e9d49e6-809d-49be-ace7-73245224954f",
   "metadata": {},
   "source": [
    "### Looking at each week from the previous year (2017) for the month of June we see strongest traffic on Sunday and weakest traffic Monday and Tuesday with a general recovery toward the end of the week"
   ]
  },
  {
   "cell_type": "code",
   "execution_count": 21,
   "id": "e7824418-e62f-4f6a-a208-b101522735e2",
   "metadata": {},
   "outputs": [
    {
     "data": {
      "text/plain": [
       "2016-11-25    72\n",
       "2015-11-27    71\n",
       "2016-12-21    70\n",
       "2017-12-20    70\n",
       "2016-12-23    68\n",
       "              ..\n",
       "2018-02-11    34\n",
       "2017-07-09    34\n",
       "2016-11-24    10\n",
       "2015-11-26     8\n",
       "2017-11-23     4\n",
       "Name: Date, Length: 1215, dtype: int64"
      ]
     },
     "execution_count": 21,
     "metadata": {},
     "output_type": "execute_result"
    }
   ],
   "source": [
    "# number of days in dataset\n",
    "unique_days = traffic.index.normalize().value_counts()\n",
    "unique_days"
   ]
  },
  {
   "cell_type": "markdown",
   "id": "efe8ad65-3055-41d2-bdd0-9ad2b02842fa",
   "metadata": {},
   "source": [
    "### Find min and max time looking for typical store hours"
   ]
  },
  {
   "cell_type": "code",
   "execution_count": 22,
   "id": "5eaab5b9-a746-45a4-a7e1-f61bfe273059",
   "metadata": {},
   "outputs": [
    {
     "data": {
      "text/html": [
       "<div>\n",
       "<style scoped>\n",
       "    .dataframe tbody tr th:only-of-type {\n",
       "        vertical-align: middle;\n",
       "    }\n",
       "\n",
       "    .dataframe tbody tr th {\n",
       "        vertical-align: top;\n",
       "    }\n",
       "\n",
       "    .dataframe thead th {\n",
       "        text-align: right;\n",
       "    }\n",
       "</style>\n",
       "<table border=\"1\" class=\"dataframe\">\n",
       "  <thead>\n",
       "    <tr style=\"text-align: right;\">\n",
       "      <th></th>\n",
       "      <th>traffic</th>\n",
       "    </tr>\n",
       "    <tr>\n",
       "      <th>Date</th>\n",
       "      <th></th>\n",
       "    </tr>\n",
       "  </thead>\n",
       "  <tbody>\n",
       "    <tr>\n",
       "      <th>2015-01-01 19:00:00</th>\n",
       "      <td>2</td>\n",
       "    </tr>\n",
       "    <tr>\n",
       "      <th>2015-01-02 19:00:00</th>\n",
       "      <td>10</td>\n",
       "    </tr>\n",
       "    <tr>\n",
       "      <th>2015-01-03 19:00:00</th>\n",
       "      <td>8</td>\n",
       "    </tr>\n",
       "    <tr>\n",
       "      <th>2015-01-04 19:00:00</th>\n",
       "      <td>3</td>\n",
       "    </tr>\n",
       "    <tr>\n",
       "      <th>2015-01-05 19:00:00</th>\n",
       "      <td>1</td>\n",
       "    </tr>\n",
       "    <tr>\n",
       "      <th>...</th>\n",
       "      <td>...</td>\n",
       "    </tr>\n",
       "    <tr>\n",
       "      <th>2018-05-02 19:00:00</th>\n",
       "      <td>2</td>\n",
       "    </tr>\n",
       "    <tr>\n",
       "      <th>2018-05-03 19:00:00</th>\n",
       "      <td>2</td>\n",
       "    </tr>\n",
       "    <tr>\n",
       "      <th>2018-05-04 19:00:00</th>\n",
       "      <td>5</td>\n",
       "    </tr>\n",
       "    <tr>\n",
       "      <th>2018-05-05 19:00:00</th>\n",
       "      <td>3</td>\n",
       "    </tr>\n",
       "    <tr>\n",
       "      <th>2018-05-06 19:00:00</th>\n",
       "      <td>4</td>\n",
       "    </tr>\n",
       "  </tbody>\n",
       "</table>\n",
       "<p>1205 rows × 1 columns</p>\n",
       "</div>"
      ],
      "text/plain": [
       "                     traffic\n",
       "Date                        \n",
       "2015-01-01 19:00:00        2\n",
       "2015-01-02 19:00:00       10\n",
       "2015-01-03 19:00:00        8\n",
       "2015-01-04 19:00:00        3\n",
       "2015-01-05 19:00:00        1\n",
       "...                      ...\n",
       "2018-05-02 19:00:00        2\n",
       "2018-05-03 19:00:00        2\n",
       "2018-05-04 19:00:00        5\n",
       "2018-05-05 19:00:00        3\n",
       "2018-05-06 19:00:00        4\n",
       "\n",
       "[1205 rows x 1 columns]"
      ]
     },
     "execution_count": 22,
     "metadata": {},
     "output_type": "execute_result"
    }
   ],
   "source": [
    "#original thought was looking for store core hours.  Look at how many rows match each hour\n",
    "match = \"19:00:00\"\n",
    "traffic.loc[traffic.index.strftime(\"%H:%M:%S\") == match]"
   ]
  },
  {
   "cell_type": "code",
   "execution_count": 23,
   "id": "418776f9-f2fd-463a-9103-464caa0ddff9",
   "metadata": {},
   "outputs": [
    {
     "data": {
      "text/plain": [
       "(58437, 1)"
      ]
     },
     "execution_count": 23,
     "metadata": {},
     "output_type": "execute_result"
    }
   ],
   "source": [
    "traffic.shape"
   ]
  },
  {
   "cell_type": "code",
   "execution_count": 24,
   "id": "749439a4-27d6-4ac3-b290-fb076dc98aa7",
   "metadata": {},
   "outputs": [
    {
     "data": {
      "text/html": [
       "<div>\n",
       "<style scoped>\n",
       "    .dataframe tbody tr th:only-of-type {\n",
       "        vertical-align: middle;\n",
       "    }\n",
       "\n",
       "    .dataframe tbody tr th {\n",
       "        vertical-align: top;\n",
       "    }\n",
       "\n",
       "    .dataframe thead th {\n",
       "        text-align: right;\n",
       "    }\n",
       "</style>\n",
       "<table border=\"1\" class=\"dataframe\">\n",
       "  <thead>\n",
       "    <tr style=\"text-align: right;\">\n",
       "      <th></th>\n",
       "      <th>traffic</th>\n",
       "    </tr>\n",
       "  </thead>\n",
       "  <tbody>\n",
       "    <tr>\n",
       "      <th>count</th>\n",
       "      <td>58437.000000</td>\n",
       "    </tr>\n",
       "    <tr>\n",
       "      <th>mean</th>\n",
       "      <td>4.208755</td>\n",
       "    </tr>\n",
       "    <tr>\n",
       "      <th>std</th>\n",
       "      <td>4.059862</td>\n",
       "    </tr>\n",
       "    <tr>\n",
       "      <th>min</th>\n",
       "      <td>0.000000</td>\n",
       "    </tr>\n",
       "    <tr>\n",
       "      <th>25%</th>\n",
       "      <td>1.000000</td>\n",
       "    </tr>\n",
       "    <tr>\n",
       "      <th>50%</th>\n",
       "      <td>3.000000</td>\n",
       "    </tr>\n",
       "    <tr>\n",
       "      <th>75%</th>\n",
       "      <td>6.000000</td>\n",
       "    </tr>\n",
       "    <tr>\n",
       "      <th>max</th>\n",
       "      <td>39.000000</td>\n",
       "    </tr>\n",
       "  </tbody>\n",
       "</table>\n",
       "</div>"
      ],
      "text/plain": [
       "            traffic\n",
       "count  58437.000000\n",
       "mean       4.208755\n",
       "std        4.059862\n",
       "min        0.000000\n",
       "25%        1.000000\n",
       "50%        3.000000\n",
       "75%        6.000000\n",
       "max       39.000000"
      ]
     },
     "execution_count": 24,
     "metadata": {},
     "output_type": "execute_result"
    }
   ],
   "source": [
    "traffic.describe()"
   ]
  },
  {
   "cell_type": "markdown",
   "id": "562e4f48-f544-4593-97ab-3907caec9dfc",
   "metadata": {},
   "source": [
    "### Resample to hourly"
   ]
  },
  {
   "cell_type": "code",
   "execution_count": 25,
   "id": "a022afaa-baf0-44b3-995d-a0896d22a01b",
   "metadata": {},
   "outputs": [
    {
     "data": {
      "image/png": "[encoded data removed]",
      "text/plain": [
       "<Figure size 432x288 with 1 Axes>"
      ]
     },
     "metadata": {
      "needs_background": "light"
     },
     "output_type": "display_data"
    }
   ],
   "source": [
    "#Because we are projecting every hour we will resample to be in the same units\n",
    "traffic_rs = traffic.resample('H').mean()\n",
    "traffic_rs.plot();"
   ]
  },
  {
   "cell_type": "code",
   "execution_count": 26,
   "id": "44d07e11-deb9-4085-9ddd-4818dd4850f5",
   "metadata": {},
   "outputs": [
    {
     "data": {
      "text/html": [
       "<div>\n",
       "<style scoped>\n",
       "    .dataframe tbody tr th:only-of-type {\n",
       "        vertical-align: middle;\n",
       "    }\n",
       "\n",
       "    .dataframe tbody tr th {\n",
       "        vertical-align: top;\n",
       "    }\n",
       "\n",
       "    .dataframe thead th {\n",
       "        text-align: right;\n",
       "    }\n",
       "</style>\n",
       "<table border=\"1\" class=\"dataframe\">\n",
       "  <thead>\n",
       "    <tr style=\"text-align: right;\">\n",
       "      <th></th>\n",
       "      <th>traffic</th>\n",
       "    </tr>\n",
       "    <tr>\n",
       "      <th>Date</th>\n",
       "      <th></th>\n",
       "    </tr>\n",
       "  </thead>\n",
       "  <tbody>\n",
       "    <tr>\n",
       "      <th>2015-01-01 10:00:00</th>\n",
       "      <td>2.00</td>\n",
       "    </tr>\n",
       "    <tr>\n",
       "      <th>2015-01-01 11:00:00</th>\n",
       "      <td>3.50</td>\n",
       "    </tr>\n",
       "    <tr>\n",
       "      <th>2015-01-01 12:00:00</th>\n",
       "      <td>7.00</td>\n",
       "    </tr>\n",
       "    <tr>\n",
       "      <th>2015-01-01 13:00:00</th>\n",
       "      <td>8.25</td>\n",
       "    </tr>\n",
       "    <tr>\n",
       "      <th>2015-01-01 14:00:00</th>\n",
       "      <td>11.75</td>\n",
       "    </tr>\n",
       "  </tbody>\n",
       "</table>\n",
       "</div>"
      ],
      "text/plain": [
       "                     traffic\n",
       "Date                        \n",
       "2015-01-01 10:00:00     2.00\n",
       "2015-01-01 11:00:00     3.50\n",
       "2015-01-01 12:00:00     7.00\n",
       "2015-01-01 13:00:00     8.25\n",
       "2015-01-01 14:00:00    11.75"
      ]
     },
     "execution_count": 26,
     "metadata": {},
     "output_type": "execute_result"
    }
   ],
   "source": [
    "traffic_rs.head()"
   ]
  },
  {
   "cell_type": "markdown",
   "id": "48001e9d-4ea5-4cdd-8794-69ced07af75e",
   "metadata": {},
   "source": [
    "As we can see this created a lot of null values"
   ]
  },
  {
   "cell_type": "code",
   "execution_count": 27,
   "id": "d5dc3360-9e52-42b6-bff6-831b82ed27bd",
   "metadata": {},
   "outputs": [
    {
     "data": {
      "text/plain": [
       "(29316, 1)"
      ]
     },
     "execution_count": 27,
     "metadata": {},
     "output_type": "execute_result"
    }
   ],
   "source": [
    "traffic_rs.shape"
   ]
  },
  {
   "cell_type": "code",
   "execution_count": 28,
   "id": "580ff3f0-40e8-4148-b336-aead27baf536",
   "metadata": {},
   "outputs": [
    {
     "data": {
      "text/plain": [
       "traffic    11566\n",
       "dtype: int64"
      ]
     },
     "execution_count": 28,
     "metadata": {},
     "output_type": "execute_result"
    }
   ],
   "source": [
    "traffic_rs.isna().sum()"
   ]
  },
  {
   "cell_type": "code",
   "execution_count": 29,
   "id": "6782f0ba-ed12-421a-bfdc-a4f6c155b004",
   "metadata": {},
   "outputs": [
    {
     "data": {
      "text/plain": [
       "traffic    94\n",
       "dtype: int64"
      ]
     },
     "execution_count": 29,
     "metadata": {},
     "output_type": "execute_result"
    }
   ],
   "source": [
    "#check number of nulls in core hours\n",
    "traffic_rs_day = traffic_rs.between_time('11:00:00' , '19:00:00')\n",
    "traffic_rs_day.isna().sum()"
   ]
  },
  {
   "cell_type": "code",
   "execution_count": 30,
   "id": "ef38fbe1-ed01-4d3e-8101-e31b0346e64f",
   "metadata": {},
   "outputs": [
    {
     "data": {
      "text/html": [
       "<div>\n",
       "<style scoped>\n",
       "    .dataframe tbody tr th:only-of-type {\n",
       "        vertical-align: middle;\n",
       "    }\n",
       "\n",
       "    .dataframe tbody tr th {\n",
       "        vertical-align: top;\n",
       "    }\n",
       "\n",
       "    .dataframe thead th {\n",
       "        text-align: right;\n",
       "    }\n",
       "</style>\n",
       "<table border=\"1\" class=\"dataframe\">\n",
       "  <thead>\n",
       "    <tr style=\"text-align: right;\">\n",
       "      <th></th>\n",
       "      <th>traffic</th>\n",
       "    </tr>\n",
       "    <tr>\n",
       "      <th>Date</th>\n",
       "      <th></th>\n",
       "    </tr>\n",
       "  </thead>\n",
       "  <tbody>\n",
       "    <tr>\n",
       "      <th>2015-01-01 10:00:00</th>\n",
       "      <td>2.00</td>\n",
       "    </tr>\n",
       "    <tr>\n",
       "      <th>2015-01-01 11:00:00</th>\n",
       "      <td>3.50</td>\n",
       "    </tr>\n",
       "    <tr>\n",
       "      <th>2015-01-01 12:00:00</th>\n",
       "      <td>7.00</td>\n",
       "    </tr>\n",
       "    <tr>\n",
       "      <th>2015-01-01 13:00:00</th>\n",
       "      <td>8.25</td>\n",
       "    </tr>\n",
       "    <tr>\n",
       "      <th>2015-01-01 14:00:00</th>\n",
       "      <td>11.75</td>\n",
       "    </tr>\n",
       "  </tbody>\n",
       "</table>\n",
       "</div>"
      ],
      "text/plain": [
       "                     traffic\n",
       "Date                        \n",
       "2015-01-01 10:00:00     2.00\n",
       "2015-01-01 11:00:00     3.50\n",
       "2015-01-01 12:00:00     7.00\n",
       "2015-01-01 13:00:00     8.25\n",
       "2015-01-01 14:00:00    11.75"
      ]
     },
     "execution_count": 30,
     "metadata": {},
     "output_type": "execute_result"
    }
   ],
   "source": [
    "traffic_rs.head()"
   ]
  },
  {
   "cell_type": "code",
   "execution_count": 31,
   "id": "92a15c08-4ba7-4415-8875-bf3e1396871c",
   "metadata": {},
   "outputs": [
    {
     "data": {
      "text/plain": [
       "traffic    11566\n",
       "dtype: int64"
      ]
     },
     "execution_count": 31,
     "metadata": {},
     "output_type": "execute_result"
    }
   ],
   "source": [
    "traffic_rs.isna().sum()"
   ]
  },
  {
   "cell_type": "code",
   "execution_count": 32,
   "id": "c1422dfc-ec44-4109-b0ec-b6c52d3045c4",
   "metadata": {},
   "outputs": [],
   "source": [
    "traffic_rs.dropna(inplace=True)"
   ]
  },
  {
   "cell_type": "code",
   "execution_count": 33,
   "id": "5cdc598f-d894-4f51-bc58-8336634acabd",
   "metadata": {},
   "outputs": [
    {
     "data": {
      "text/plain": [
       "(17750, 1)"
      ]
     },
     "execution_count": 33,
     "metadata": {},
     "output_type": "execute_result"
    }
   ],
   "source": [
    "traffic_rs.shape"
   ]
  },
  {
   "cell_type": "code",
   "execution_count": 34,
   "id": "06db5047-08b6-4867-87b6-63cccdc30a51",
   "metadata": {},
   "outputs": [
    {
     "data": {
      "text/plain": [
       "traffic    0\n",
       "dtype: int64"
      ]
     },
     "execution_count": 34,
     "metadata": {},
     "output_type": "execute_result"
    }
   ],
   "source": [
    "traffic_rs.isna().sum()"
   ]
  },
  {
   "cell_type": "markdown",
   "id": "3674fb11-a942-4022-abc1-a62159ad58bd",
   "metadata": {},
   "source": [
    "### Is the Data Stationary??"
   ]
  },
  {
   "cell_type": "code",
   "execution_count": 35,
   "id": "41c11611-6221-4a4f-b78d-de76a0d00c53",
   "metadata": {},
   "outputs": [
    {
     "data": {
      "text/plain": [
       "(-14.40210571954656,\n",
       " 8.475001424568906e-27,\n",
       " 44,\n",
       " 17705,\n",
       " {'1%': -3.4307194012057134,\n",
       "  '5%': -2.8617032611843674,\n",
       "  '10%': -2.5668568996699093},\n",
       " 65789.5502785867)"
      ]
     },
     "execution_count": 35,
     "metadata": {},
     "output_type": "execute_result"
    }
   ],
   "source": [
    "#Augmented Dickey-Fuller test\n",
    "from statsmodels.tsa.stattools import adfuller\n",
    "\n",
    "adfuller(traffic_rs)"
   ]
  },
  {
   "cell_type": "code",
   "execution_count": 37,
   "id": "adbd2480-3ada-4d34-a60a-292424c4dc24",
   "metadata": {},
   "outputs": [],
   "source": [
    "#The p-value is the second value: 8.47 e-27\n",
    "#This is sufficiently below .05 and the data does not need to be diff for stationarity"
   ]
  },
  {
   "cell_type": "markdown",
   "id": "e067147e-8edd-4a20-ab3d-d8167e81f8cd",
   "metadata": {},
   "source": [
    "## Look at Autocorrelation and P ACF"
   ]
  },
  {
   "cell_type": "code",
   "execution_count": 110,
   "id": "583346d5-eff1-4300-83f8-8743152c5a34",
   "metadata": {},
   "outputs": [
    {
     "data": {
      "image/png": "[encoded data removed]",
      "text/plain": [
       "<Figure size 432x288 with 1 Axes>"
      ]
     },
     "execution_count": 110,
     "metadata": {},
     "output_type": "execute_result"
    },
    {
     "data": {
      "image/png": "[encoded data removed]",
      "text/plain": [
       "<Figure size 432x288 with 1 Axes>"
      ]
     },
     "metadata": {
      "needs_background": "light"
     },
     "output_type": "display_data"
    }
   ],
   "source": [
    "plot_acf(traffic_rs['traffic'], lags = 30)"
   ]
  },
  {
   "cell_type": "code",
   "execution_count": 37,
   "id": "c54ee943-f9a3-4d13-85c1-d0266435f9a0",
   "metadata": {},
   "outputs": [
    {
     "name": "stderr",
     "output_type": "stream",
     "text": [
      "C:\\Users\\eswan\\anaconda3\\envs\\projects\\lib\\site-packages\\statsmodels\\graphics\\tsaplots.py:348: FutureWarning: The default method 'yw' can produce PACF values outside of the [-1,1] interval. After 0.13, the default will change tounadjusted Yule-Walker ('ywm'). You can use this method now by setting method='ywm'.\n",
      "  warnings.warn(\n"
     ]
    },
    {
     "data": {
      "image/png": "[encoded data removed]",
      "text/plain": [
       "<Figure size 432x288 with 1 Axes>"
      ]
     },
     "execution_count": 37,
     "metadata": {},
     "output_type": "execute_result"
    },
    {
     "data": {
      "image/png": "[encoded data removed]",
      "text/plain": [
       "<Figure size 432x288 with 1 Axes>"
      ]
     },
     "metadata": {
      "needs_background": "light"
     },
     "output_type": "display_data"
    }
   ],
   "source": [
    "plot_pacf(traffic_rs['traffic'], lags = 30)"
   ]
  },
  {
   "cell_type": "markdown",
   "id": "340316a7-5ec4-44be-8074-35c6cdf27d08",
   "metadata": {},
   "source": [
    "## Base Model"
   ]
  },
  {
   "cell_type": "code",
   "execution_count": 38,
   "id": "51c57042-1f71-4adb-af61-dd503ac47558",
   "metadata": {},
   "outputs": [
    {
     "data": {
      "text/html": [
       "<div>\n",
       "<style scoped>\n",
       "    .dataframe tbody tr th:only-of-type {\n",
       "        vertical-align: middle;\n",
       "    }\n",
       "\n",
       "    .dataframe tbody tr th {\n",
       "        vertical-align: top;\n",
       "    }\n",
       "\n",
       "    .dataframe thead th {\n",
       "        text-align: right;\n",
       "    }\n",
       "</style>\n",
       "<table border=\"1\" class=\"dataframe\">\n",
       "  <thead>\n",
       "    <tr style=\"text-align: right;\">\n",
       "      <th></th>\n",
       "      <th>traffic</th>\n",
       "      <th>forecast_traffic</th>\n",
       "    </tr>\n",
       "    <tr>\n",
       "      <th>Date</th>\n",
       "      <th></th>\n",
       "      <th></th>\n",
       "    </tr>\n",
       "  </thead>\n",
       "  <tbody>\n",
       "    <tr>\n",
       "      <th>2015-01-01 10:00:00</th>\n",
       "      <td>0</td>\n",
       "      <td>4.2</td>\n",
       "    </tr>\n",
       "    <tr>\n",
       "      <th>2015-01-01 10:15:00</th>\n",
       "      <td>1</td>\n",
       "      <td>4.2</td>\n",
       "    </tr>\n",
       "    <tr>\n",
       "      <th>2015-01-01 10:30:00</th>\n",
       "      <td>4</td>\n",
       "      <td>4.2</td>\n",
       "    </tr>\n",
       "    <tr>\n",
       "      <th>2015-01-01 10:45:00</th>\n",
       "      <td>3</td>\n",
       "      <td>4.2</td>\n",
       "    </tr>\n",
       "    <tr>\n",
       "      <th>2015-01-01 11:00:00</th>\n",
       "      <td>1</td>\n",
       "      <td>4.2</td>\n",
       "    </tr>\n",
       "  </tbody>\n",
       "</table>\n",
       "</div>"
      ],
      "text/plain": [
       "                     traffic  forecast_traffic\n",
       "Date                                          \n",
       "2015-01-01 10:00:00        0               4.2\n",
       "2015-01-01 10:15:00        1               4.2\n",
       "2015-01-01 10:30:00        4               4.2\n",
       "2015-01-01 10:45:00        3               4.2\n",
       "2015-01-01 11:00:00        1               4.2"
      ]
     },
     "execution_count": 38,
     "metadata": {},
     "output_type": "execute_result"
    }
   ],
   "source": [
    "#forecast using the dataset mean since we are projecting so much data into the future\n",
    "base_model = traffic.copy()\n",
    "base_model['forecast_traffic'] = 4.2\n",
    "base_model.head()"
   ]
  },
  {
   "cell_type": "code",
   "execution_count": 59,
   "id": "8fdfd500-6e99-41dc-811a-7ffa9b2a0e1f",
   "metadata": {},
   "outputs": [
    {
     "data": {
      "text/plain": [
       "4.05983718993703"
      ]
     },
     "execution_count": 59,
     "metadata": {},
     "output_type": "execute_result"
    }
   ],
   "source": [
    "base_model_error = mean_squared_error(base_model.traffic, base_model.forecast_traffic)\n",
    "np.sqrt(base_model_error)"
   ]
  },
  {
   "cell_type": "markdown",
   "id": "984e20b8-fdbf-4475-8538-905dfc706b66",
   "metadata": {},
   "source": [
    "## Build the model"
   ]
  },
  {
   "cell_type": "markdown",
   "id": "d38f3894-80a5-4bc3-a1d6-bc8afdfaa884",
   "metadata": {},
   "source": [
    "## SARIMAX"
   ]
  },
  {
   "cell_type": "code",
   "execution_count": 39,
   "id": "2b1a2e9a-5161-4aa1-aea8-99c6f8df1332",
   "metadata": {},
   "outputs": [],
   "source": [
    "import warnings\n",
    "warnings.filterwarnings('ignore')"
   ]
  },
  {
   "cell_type": "code",
   "execution_count": 41,
   "id": "39622b74-98dc-4944-9874-df2695692c75",
   "metadata": {},
   "outputs": [],
   "source": [
    "traffic_train = traffic_rs.traffic.loc[:'2018-04-05 19:00:00']\n",
    "traffic_test = traffic_rs.traffic.loc['2018-04-06 10:15:00': '2018-05-06 19:00:00']"
   ]
  },
  {
   "cell_type": "code",
   "execution_count": 126,
   "id": "e52f4797-6d5e-4feb-b63d-b69e343eb812",
   "metadata": {},
   "outputs": [],
   "source": [
    "model = SARIMAX(traffic_train, order=(3, 1, 2),\n",
    "              seasonal_order=(2, 1, 0, 12),\n",
    "              enforce_stationarity=False,\n",
    "              enforce_invertibility=False)\n",
    "results = model.fit()"
   ]
  },
  {
   "cell_type": "code",
   "execution_count": 56,
   "id": "05fca8e3-dae3-4fa6-9a6a-8d713458165c",
   "metadata": {},
   "outputs": [
    {
     "data": {
      "text/plain": [
       "437"
      ]
     },
     "execution_count": 56,
     "metadata": {},
     "output_type": "execute_result"
    }
   ],
   "source": [
    "len(traffic_test)"
   ]
  },
  {
   "cell_type": "code",
   "execution_count": 95,
   "id": "555b2644-58ff-4121-aae1-68d80c3f6aa7",
   "metadata": {},
   "outputs": [],
   "source": [
    "forecast = results.predict(start = len(traffic_train),\n",
    "                           end=len(traffic_train)+436,\n",
    "                           typ='levels').rename('Predict')"
   ]
  },
  {
   "cell_type": "code",
   "execution_count": 96,
   "id": "2223a1de-a10c-4639-9343-c057c10d7edd",
   "metadata": {},
   "outputs": [
    {
     "data": {
      "text/html": [
       "<div>\n",
       "<style scoped>\n",
       "    .dataframe tbody tr th:only-of-type {\n",
       "        vertical-align: middle;\n",
       "    }\n",
       "\n",
       "    .dataframe tbody tr th {\n",
       "        vertical-align: top;\n",
       "    }\n",
       "\n",
       "    .dataframe thead th {\n",
       "        text-align: right;\n",
       "    }\n",
       "</style>\n",
       "<table border=\"1\" class=\"dataframe\">\n",
       "  <thead>\n",
       "    <tr style=\"text-align: right;\">\n",
       "      <th></th>\n",
       "      <th>Predict</th>\n",
       "    </tr>\n",
       "  </thead>\n",
       "  <tbody>\n",
       "    <tr>\n",
       "      <th>0</th>\n",
       "      <td>1.971073</td>\n",
       "    </tr>\n",
       "    <tr>\n",
       "      <th>1</th>\n",
       "      <td>1.942053</td>\n",
       "    </tr>\n",
       "    <tr>\n",
       "      <th>2</th>\n",
       "      <td>1.934067</td>\n",
       "    </tr>\n",
       "    <tr>\n",
       "      <th>3</th>\n",
       "      <td>2.883439</td>\n",
       "    </tr>\n",
       "    <tr>\n",
       "      <th>4</th>\n",
       "      <td>3.360168</td>\n",
       "    </tr>\n",
       "  </tbody>\n",
       "</table>\n",
       "</div>"
      ],
      "text/plain": [
       "    Predict\n",
       "0  1.971073\n",
       "1  1.942053\n",
       "2  1.934067\n",
       "3  2.883439\n",
       "4  3.360168"
      ]
     },
     "execution_count": 96,
     "metadata": {},
     "output_type": "execute_result"
    }
   ],
   "source": [
    "forecast_df = pd.DataFrame(forecast)\n",
    "forecast_df.reset_index(drop=True, inplace=True)\n",
    "forecast_df.head()"
   ]
  },
  {
   "cell_type": "code",
   "execution_count": 97,
   "id": "fd711441-e043-4fe8-adae-98b78f0a6038",
   "metadata": {},
   "outputs": [
    {
     "data": {
      "text/html": [
       "<div>\n",
       "<style scoped>\n",
       "    .dataframe tbody tr th:only-of-type {\n",
       "        vertical-align: middle;\n",
       "    }\n",
       "\n",
       "    .dataframe tbody tr th {\n",
       "        vertical-align: top;\n",
       "    }\n",
       "\n",
       "    .dataframe thead th {\n",
       "        text-align: right;\n",
       "    }\n",
       "</style>\n",
       "<table border=\"1\" class=\"dataframe\">\n",
       "  <thead>\n",
       "    <tr style=\"text-align: right;\">\n",
       "      <th></th>\n",
       "      <th>traffic</th>\n",
       "      <th>date</th>\n",
       "    </tr>\n",
       "  </thead>\n",
       "  <tbody>\n",
       "    <tr>\n",
       "      <th>0</th>\n",
       "      <td>3.50</td>\n",
       "      <td>2018-04-06 11:00:00</td>\n",
       "    </tr>\n",
       "    <tr>\n",
       "      <th>1</th>\n",
       "      <td>5.25</td>\n",
       "      <td>2018-04-06 12:00:00</td>\n",
       "    </tr>\n",
       "    <tr>\n",
       "      <th>2</th>\n",
       "      <td>7.25</td>\n",
       "      <td>2018-04-06 13:00:00</td>\n",
       "    </tr>\n",
       "    <tr>\n",
       "      <th>3</th>\n",
       "      <td>8.50</td>\n",
       "      <td>2018-04-06 14:00:00</td>\n",
       "    </tr>\n",
       "    <tr>\n",
       "      <th>4</th>\n",
       "      <td>10.75</td>\n",
       "      <td>2018-04-06 15:00:00</td>\n",
       "    </tr>\n",
       "  </tbody>\n",
       "</table>\n",
       "</div>"
      ],
      "text/plain": [
       "   traffic                date\n",
       "0     3.50 2018-04-06 11:00:00\n",
       "1     5.25 2018-04-06 12:00:00\n",
       "2     7.25 2018-04-06 13:00:00\n",
       "3     8.50 2018-04-06 14:00:00\n",
       "4    10.75 2018-04-06 15:00:00"
      ]
     },
     "execution_count": 97,
     "metadata": {},
     "output_type": "execute_result"
    }
   ],
   "source": [
    "#Create a df with test size values\n",
    "new = pd.DataFrame(traffic_test)\n",
    "new['date'] = new.index\n",
    "new.reset_index(drop=True, inplace=True)\n",
    "new.head()"
   ]
  },
  {
   "cell_type": "code",
   "execution_count": 98,
   "id": "28f3aa02-af40-4b93-a540-1257191d5ef7",
   "metadata": {},
   "outputs": [
    {
     "data": {
      "text/plain": [
       "437"
      ]
     },
     "execution_count": 98,
     "metadata": {},
     "output_type": "execute_result"
    }
   ],
   "source": [
    "len(new)"
   ]
  },
  {
   "cell_type": "code",
   "execution_count": 99,
   "id": "cdf6b7a5-f2d3-4726-9d6f-eaf1bf5b19e1",
   "metadata": {},
   "outputs": [
    {
     "data": {
      "text/plain": [
       "437"
      ]
     },
     "execution_count": 99,
     "metadata": {},
     "output_type": "execute_result"
    }
   ],
   "source": [
    "len(forecast_df)"
   ]
  },
  {
   "cell_type": "code",
   "execution_count": 100,
   "id": "ae6061c3-bef3-489a-991f-5d5b81762ece",
   "metadata": {},
   "outputs": [],
   "source": [
    "results = pd.concat([new, forecast_df], axis=1)"
   ]
  },
  {
   "cell_type": "code",
   "execution_count": 101,
   "id": "93a79d0b-76c3-4b70-8fd4-22a4e9514076",
   "metadata": {},
   "outputs": [],
   "source": [
    "#results.head()\n",
    "results.set_index('date', inplace=True)"
   ]
  },
  {
   "cell_type": "code",
   "execution_count": 102,
   "id": "8e3d3001-8682-4327-bc87-5628cc9fee9e",
   "metadata": {},
   "outputs": [
    {
     "data": {
      "text/html": [
       "<div>\n",
       "<style scoped>\n",
       "    .dataframe tbody tr th:only-of-type {\n",
       "        vertical-align: middle;\n",
       "    }\n",
       "\n",
       "    .dataframe tbody tr th {\n",
       "        vertical-align: top;\n",
       "    }\n",
       "\n",
       "    .dataframe thead th {\n",
       "        text-align: right;\n",
       "    }\n",
       "</style>\n",
       "<table border=\"1\" class=\"dataframe\">\n",
       "  <thead>\n",
       "    <tr style=\"text-align: right;\">\n",
       "      <th></th>\n",
       "      <th>traffic</th>\n",
       "      <th>Predict</th>\n",
       "    </tr>\n",
       "    <tr>\n",
       "      <th>date</th>\n",
       "      <th></th>\n",
       "      <th></th>\n",
       "    </tr>\n",
       "  </thead>\n",
       "  <tbody>\n",
       "    <tr>\n",
       "      <th>2018-04-06 11:00:00</th>\n",
       "      <td>3.50</td>\n",
       "      <td>1.971073</td>\n",
       "    </tr>\n",
       "    <tr>\n",
       "      <th>2018-04-06 12:00:00</th>\n",
       "      <td>5.25</td>\n",
       "      <td>1.942053</td>\n",
       "    </tr>\n",
       "    <tr>\n",
       "      <th>2018-04-06 13:00:00</th>\n",
       "      <td>7.25</td>\n",
       "      <td>1.934067</td>\n",
       "    </tr>\n",
       "    <tr>\n",
       "      <th>2018-04-06 14:00:00</th>\n",
       "      <td>8.50</td>\n",
       "      <td>2.883439</td>\n",
       "    </tr>\n",
       "    <tr>\n",
       "      <th>2018-04-06 15:00:00</th>\n",
       "      <td>10.75</td>\n",
       "      <td>3.360168</td>\n",
       "    </tr>\n",
       "  </tbody>\n",
       "</table>\n",
       "</div>"
      ],
      "text/plain": [
       "                     traffic   Predict\n",
       "date                                  \n",
       "2018-04-06 11:00:00     3.50  1.971073\n",
       "2018-04-06 12:00:00     5.25  1.942053\n",
       "2018-04-06 13:00:00     7.25  1.934067\n",
       "2018-04-06 14:00:00     8.50  2.883439\n",
       "2018-04-06 15:00:00    10.75  3.360168"
      ]
     },
     "execution_count": 102,
     "metadata": {},
     "output_type": "execute_result"
    }
   ],
   "source": [
    "results.head()"
   ]
  },
  {
   "cell_type": "code",
   "execution_count": 103,
   "id": "a086e916-6af1-455a-b2eb-36dc1728dfb2",
   "metadata": {},
   "outputs": [
    {
     "data": {
      "image/png": "[encoded data removed]",
      "text/plain": [
       "<Figure size 864x576 with 1 Axes>"
      ]
     },
     "metadata": {
      "needs_background": "light"
     },
     "output_type": "display_data"
    }
   ],
   "source": [
    "results['traffic'][:50].plot(figsize=(12,8),legend=True)\n",
    "results['Predict'][:50].plot(legend=True);"
   ]
  },
  {
   "cell_type": "code",
   "execution_count": 104,
   "id": "897de5e8-6d91-44ae-9c28-52e4d26631b0",
   "metadata": {},
   "outputs": [
    {
     "data": {
      "text/plain": [
       "2.900562036697101"
      ]
     },
     "execution_count": 104,
     "metadata": {},
     "output_type": "execute_result"
    }
   ],
   "source": [
    "mean_squared_error(results['traffic'], results['Predict']) ** 0.5"
   ]
  },
  {
   "cell_type": "code",
   "execution_count": 105,
   "id": "9752e738-dec4-4d5e-9570-a95c3eb7be3e",
   "metadata": {},
   "outputs": [
    {
     "data": {
      "image/png": "[encoded data removed]",
      "text/plain": [
       "<Figure size 1440x720 with 1 Axes>"
      ]
     },
     "metadata": {
      "needs_background": "light"
     },
     "output_type": "display_data"
    }
   ],
   "source": [
    "plt.figure(figsize=(20,10))\n",
    "\n",
    "# Plot testing data.\n",
    "plt.plot(results['traffic'][:50], color = 'orange', label='Test Data')\n",
    "\n",
    "# Plot predicted test values.\n",
    "plt.plot(results['Predict'][:50], color = 'green', label='Predictions')\n",
    "\n",
    "# Set label.\n",
    "plt.title(label = 'Forecasting Hourly Traffic', fontsize=24)\n",
    "\n",
    "# Resize tick marks.\n",
    "plt.xticks(fontsize=20,rotation=70)\n",
    "plt.yticks(fontsize=20)\n",
    "\n",
    "plt.legend(loc='best', prop={'size': 20});"
   ]
  },
  {
   "cell_type": "code",
   "execution_count": null,
   "id": "db9c023e-f8c4-44f8-ac15-206f27614782",
   "metadata": {},
   "outputs": [],
   "source": []
  },
  {
   "cell_type": "code",
   "execution_count": 127,
   "id": "21a92629-6bb4-43ff-8977-7dde54b34d4a",
   "metadata": {},
   "outputs": [],
   "source": [
    "traffic_forecast_May = results.predict(start = len(traffic_rs),\n",
    "                           end=len(traffic_rs)+722,\n",
    "                           typ='levels').rename('Traffic_Predict')"
   ]
  },
  {
   "cell_type": "code",
   "execution_count": 128,
   "id": "8098a548-de5c-4724-80ff-53239f1929b9",
   "metadata": {},
   "outputs": [
    {
     "data": {
      "text/html": [
       "<div>\n",
       "<style scoped>\n",
       "    .dataframe tbody tr th:only-of-type {\n",
       "        vertical-align: middle;\n",
       "    }\n",
       "\n",
       "    .dataframe tbody tr th {\n",
       "        vertical-align: top;\n",
       "    }\n",
       "\n",
       "    .dataframe thead th {\n",
       "        text-align: right;\n",
       "    }\n",
       "</style>\n",
       "<table border=\"1\" class=\"dataframe\">\n",
       "  <thead>\n",
       "    <tr style=\"text-align: right;\">\n",
       "      <th></th>\n",
       "      <th>Traffic_Predict</th>\n",
       "    </tr>\n",
       "  </thead>\n",
       "  <tbody>\n",
       "    <tr>\n",
       "      <th>0</th>\n",
       "      <td>1.695509</td>\n",
       "    </tr>\n",
       "    <tr>\n",
       "      <th>1</th>\n",
       "      <td>1.805804</td>\n",
       "    </tr>\n",
       "    <tr>\n",
       "      <th>2</th>\n",
       "      <td>3.070308</td>\n",
       "    </tr>\n",
       "    <tr>\n",
       "      <th>3</th>\n",
       "      <td>3.643906</td>\n",
       "    </tr>\n",
       "    <tr>\n",
       "      <th>4</th>\n",
       "      <td>4.083385</td>\n",
       "    </tr>\n",
       "  </tbody>\n",
       "</table>\n",
       "</div>"
      ],
      "text/plain": [
       "   Traffic_Predict\n",
       "0         1.695509\n",
       "1         1.805804\n",
       "2         3.070308\n",
       "3         3.643906\n",
       "4         4.083385"
      ]
     },
     "execution_count": 128,
     "metadata": {},
     "output_type": "execute_result"
    }
   ],
   "source": [
    "forecast_May_df = pd.DataFrame(traffic_forecast_May)\n",
    "forecast_May_df.reset_index(drop=True, inplace=True)\n",
    "forecast_May_df.head()"
   ]
  },
  {
   "cell_type": "code",
   "execution_count": 129,
   "id": "97bdb0cd-3b64-4086-978c-61c02cf3398b",
   "metadata": {},
   "outputs": [
    {
     "data": {
      "text/html": [
       "<div>\n",
       "<style scoped>\n",
       "    .dataframe tbody tr th:only-of-type {\n",
       "        vertical-align: middle;\n",
       "    }\n",
       "\n",
       "    .dataframe tbody tr th {\n",
       "        vertical-align: top;\n",
       "    }\n",
       "\n",
       "    .dataframe thead th {\n",
       "        text-align: right;\n",
       "    }\n",
       "</style>\n",
       "<table border=\"1\" class=\"dataframe\">\n",
       "  <thead>\n",
       "    <tr style=\"text-align: right;\">\n",
       "      <th></th>\n",
       "      <th>Hours</th>\n",
       "    </tr>\n",
       "  </thead>\n",
       "  <tbody>\n",
       "    <tr>\n",
       "      <th>0</th>\n",
       "      <td>2018-05-06 22:00:00</td>\n",
       "    </tr>\n",
       "    <tr>\n",
       "      <th>1</th>\n",
       "      <td>2018-05-06 23:00:00</td>\n",
       "    </tr>\n",
       "    <tr>\n",
       "      <th>2</th>\n",
       "      <td>2018-05-07 00:00:00</td>\n",
       "    </tr>\n",
       "    <tr>\n",
       "      <th>3</th>\n",
       "      <td>2018-05-07 01:00:00</td>\n",
       "    </tr>\n",
       "    <tr>\n",
       "      <th>4</th>\n",
       "      <td>2018-05-07 02:00:00</td>\n",
       "    </tr>\n",
       "  </tbody>\n",
       "</table>\n",
       "</div>"
      ],
      "text/plain": [
       "                Hours\n",
       "0 2018-05-06 22:00:00\n",
       "1 2018-05-06 23:00:00\n",
       "2 2018-05-07 00:00:00\n",
       "3 2018-05-07 01:00:00\n",
       "4 2018-05-07 02:00:00"
      ]
     },
     "execution_count": 129,
     "metadata": {},
     "output_type": "execute_result"
    }
   ],
   "source": [
    "#Create a dataframe with the dates to forecast\n",
    "sales_forecast1 = pd.DataFrame({'Hours': pd.date_range('2018-05-06 22:00:00', '2018-06-06', freq='1H', closed='left')})\n",
    "sales_forecast1.head()"
   ]
  },
  {
   "cell_type": "code",
   "execution_count": 130,
   "id": "5ab61a00-dff6-4ff8-8ec2-496f84c21c19",
   "metadata": {},
   "outputs": [
    {
     "data": {
      "text/html": [
       "<div>\n",
       "<style scoped>\n",
       "    .dataframe tbody tr th:only-of-type {\n",
       "        vertical-align: middle;\n",
       "    }\n",
       "\n",
       "    .dataframe tbody tr th {\n",
       "        vertical-align: top;\n",
       "    }\n",
       "\n",
       "    .dataframe thead th {\n",
       "        text-align: right;\n",
       "    }\n",
       "</style>\n",
       "<table border=\"1\" class=\"dataframe\">\n",
       "  <thead>\n",
       "    <tr style=\"text-align: right;\">\n",
       "      <th></th>\n",
       "      <th>Traffic_Predict</th>\n",
       "    </tr>\n",
       "    <tr>\n",
       "      <th>Hours</th>\n",
       "      <th></th>\n",
       "    </tr>\n",
       "  </thead>\n",
       "  <tbody>\n",
       "    <tr>\n",
       "      <th>2018-05-06 22:00:00</th>\n",
       "      <td>1.695509</td>\n",
       "    </tr>\n",
       "    <tr>\n",
       "      <th>2018-05-06 23:00:00</th>\n",
       "      <td>1.805804</td>\n",
       "    </tr>\n",
       "    <tr>\n",
       "      <th>2018-05-07 00:00:00</th>\n",
       "      <td>3.070308</td>\n",
       "    </tr>\n",
       "    <tr>\n",
       "      <th>2018-05-07 01:00:00</th>\n",
       "      <td>3.643906</td>\n",
       "    </tr>\n",
       "    <tr>\n",
       "      <th>2018-05-07 02:00:00</th>\n",
       "      <td>4.083385</td>\n",
       "    </tr>\n",
       "  </tbody>\n",
       "</table>\n",
       "</div>"
      ],
      "text/plain": [
       "                     Traffic_Predict\n",
       "Hours                               \n",
       "2018-05-06 22:00:00         1.695509\n",
       "2018-05-06 23:00:00         1.805804\n",
       "2018-05-07 00:00:00         3.070308\n",
       "2018-05-07 01:00:00         3.643906\n",
       "2018-05-07 02:00:00         4.083385"
      ]
     },
     "execution_count": 130,
     "metadata": {},
     "output_type": "execute_result"
    }
   ],
   "source": [
    "results = pd.concat([sales_forecast1, forecast_May_df], axis=1)\n",
    "results.set_index('Hours', inplace=True)\n",
    "results.head()"
   ]
  },
  {
   "cell_type": "code",
   "execution_count": 131,
   "id": "7bf9008a-6163-4d8b-83af-59c60cf50d20",
   "metadata": {},
   "outputs": [],
   "source": [
    "results.to_csv('traffic_prediction.csv')"
   ]
  },
  {
   "cell_type": "code",
   "execution_count": null,
   "id": "ed4504d6-5982-464b-9c8b-123bd5d34fdf",
   "metadata": {},
   "outputs": [],
   "source": []
  },
  {
   "cell_type": "code",
   "execution_count": null,
   "id": "03a1f2e6-ca78-45e7-ad7c-bbba1a7d9f6e",
   "metadata": {},
   "outputs": [],
   "source": [
    "#Merge datasets"
   ]
  },
  {
   "cell_type": "code",
   "execution_count": 132,
   "id": "073d5076-0b88-461b-b998-2712ce8d51c2",
   "metadata": {},
   "outputs": [
    {
     "data": {
      "text/html": [
       "<div>\n",
       "<style scoped>\n",
       "    .dataframe tbody tr th:only-of-type {\n",
       "        vertical-align: middle;\n",
       "    }\n",
       "\n",
       "    .dataframe tbody tr th {\n",
       "        vertical-align: top;\n",
       "    }\n",
       "\n",
       "    .dataframe thead th {\n",
       "        text-align: right;\n",
       "    }\n",
       "</style>\n",
       "<table border=\"1\" class=\"dataframe\">\n",
       "  <thead>\n",
       "    <tr style=\"text-align: right;\">\n",
       "      <th></th>\n",
       "      <th>Sales_Predict</th>\n",
       "    </tr>\n",
       "    <tr>\n",
       "      <th>Hours</th>\n",
       "      <th></th>\n",
       "    </tr>\n",
       "  </thead>\n",
       "  <tbody>\n",
       "    <tr>\n",
       "      <th>2018-05-06 22:00:00</th>\n",
       "      <td>797.555908</td>\n",
       "    </tr>\n",
       "    <tr>\n",
       "      <th>2018-05-06 23:00:00</th>\n",
       "      <td>768.167698</td>\n",
       "    </tr>\n",
       "    <tr>\n",
       "      <th>2018-05-07 00:00:00</th>\n",
       "      <td>801.929601</td>\n",
       "    </tr>\n",
       "    <tr>\n",
       "      <th>2018-05-07 01:00:00</th>\n",
       "      <td>774.347994</td>\n",
       "    </tr>\n",
       "    <tr>\n",
       "      <th>2018-05-07 02:00:00</th>\n",
       "      <td>776.050799</td>\n",
       "    </tr>\n",
       "  </tbody>\n",
       "</table>\n",
       "</div>"
      ],
      "text/plain": [
       "                     Sales_Predict\n",
       "Hours                             \n",
       "2018-05-06 22:00:00     797.555908\n",
       "2018-05-06 23:00:00     768.167698\n",
       "2018-05-07 00:00:00     801.929601\n",
       "2018-05-07 01:00:00     774.347994\n",
       "2018-05-07 02:00:00     776.050799"
      ]
     },
     "execution_count": 132,
     "metadata": {},
     "output_type": "execute_result"
    }
   ],
   "source": [
    "sales_predictons = pd.read_csv('sales_prediction.csv')\n",
    "sales_predictons.set_index('Hours', inplace=True)\n",
    "sales_predictons.head()"
   ]
  },
  {
   "cell_type": "code",
   "execution_count": 133,
   "id": "c93b68ce-6ffd-4894-b143-cebc235f795e",
   "metadata": {},
   "outputs": [
    {
     "data": {
      "text/html": [
       "<div>\n",
       "<style scoped>\n",
       "    .dataframe tbody tr th:only-of-type {\n",
       "        vertical-align: middle;\n",
       "    }\n",
       "\n",
       "    .dataframe tbody tr th {\n",
       "        vertical-align: top;\n",
       "    }\n",
       "\n",
       "    .dataframe thead th {\n",
       "        text-align: right;\n",
       "    }\n",
       "</style>\n",
       "<table border=\"1\" class=\"dataframe\">\n",
       "  <thead>\n",
       "    <tr style=\"text-align: right;\">\n",
       "      <th></th>\n",
       "      <th>Traffic_Predict</th>\n",
       "      <th>Sales_Predict</th>\n",
       "    </tr>\n",
       "    <tr>\n",
       "      <th>Hours</th>\n",
       "      <th></th>\n",
       "      <th></th>\n",
       "    </tr>\n",
       "  </thead>\n",
       "  <tbody>\n",
       "    <tr>\n",
       "      <th>2018-05-06 22:00:00</th>\n",
       "      <td>1.695509</td>\n",
       "      <td>797.555908</td>\n",
       "    </tr>\n",
       "    <tr>\n",
       "      <th>2018-05-06 23:00:00</th>\n",
       "      <td>1.805804</td>\n",
       "      <td>768.167698</td>\n",
       "    </tr>\n",
       "    <tr>\n",
       "      <th>2018-05-07 00:00:00</th>\n",
       "      <td>3.070308</td>\n",
       "      <td>801.929601</td>\n",
       "    </tr>\n",
       "    <tr>\n",
       "      <th>2018-05-07 01:00:00</th>\n",
       "      <td>3.643906</td>\n",
       "      <td>774.347994</td>\n",
       "    </tr>\n",
       "    <tr>\n",
       "      <th>2018-05-07 02:00:00</th>\n",
       "      <td>4.083385</td>\n",
       "      <td>776.050799</td>\n",
       "    </tr>\n",
       "  </tbody>\n",
       "</table>\n",
       "</div>"
      ],
      "text/plain": [
       "                     Traffic_Predict  Sales_Predict\n",
       "Hours                                              \n",
       "2018-05-06 22:00:00         1.695509     797.555908\n",
       "2018-05-06 23:00:00         1.805804     768.167698\n",
       "2018-05-07 00:00:00         3.070308     801.929601\n",
       "2018-05-07 01:00:00         3.643906     774.347994\n",
       "2018-05-07 02:00:00         4.083385     776.050799"
      ]
     },
     "execution_count": 133,
     "metadata": {},
     "output_type": "execute_result"
    }
   ],
   "source": [
    "Final_prediction = pd.concat([results, sales_predictons], axis=1)\n",
    "Final_prediction.head()"
   ]
  },
  {
   "cell_type": "code",
   "execution_count": 134,
   "id": "f7c10a1a-e4e5-42f2-b706-fcf67d0c55f9",
   "metadata": {},
   "outputs": [],
   "source": [
    "Final_prediction.to_csv('final_sales_traffic_preds.csv')"
   ]
  }
 ],
 "metadata": {
  "kernelspec": {
   "display_name": "Python 3",
   "language": "python",
   "name": "python3"
  },
  "language_info": {
   "codemirror_mode": {
    "name": "ipython",
    "version": 3
   },
   "file_extension": ".py",
   "mimetype": "text/x-python",
   "name": "python",
   "nbconvert_exporter": "python",
   "pygments_lexer": "ipython3",
   "version": "3.8.12"
  }
 },
 "nbformat": 4,
 "nbformat_minor": 5
}
