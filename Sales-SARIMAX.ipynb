{
 "cells": [
  {
   "cell_type": "code",
   "execution_count": 1,
   "id": "5ac8c453-5ceb-429e-8dc5-4b5cce4b7e66",
   "metadata": {},
   "outputs": [],
   "source": [
    "import pandas as pd\n",
    "import numpy as np\n",
    "import matplotlib.pyplot as plt\n",
    "\n",
    "from sklearn.model_selection import train_test_split\n",
    "from sklearn.metrics import mean_squared_error\n",
    "\n",
    "import statsmodels.api as sm\n",
    "\n",
    "from statsmodels.graphics.tsaplots import plot_acf\n",
    "from statsmodels.graphics.tsaplots import plot_pacf\n",
    "from statsmodels.tsa.statespace.sarimax import SARIMAX\n"
   ]
  },
  {
   "cell_type": "markdown",
   "id": "db474a58-6e06-46ea-9348-05485ab14456",
   "metadata": {},
   "source": [
    "### Read in and convert to date to datetime"
   ]
  },
  {
   "cell_type": "code",
   "execution_count": 2,
   "id": "58fcb3a7-b704-418f-a11c-a477696cf9f6",
   "metadata": {},
   "outputs": [],
   "source": [
    "sales = pd.read_csv('training_Sales.csv')\n",
    "#traffic = pd.read_csv('training_Traffic.csv')"
   ]
  },
  {
   "cell_type": "code",
   "execution_count": 3,
   "id": "0d4e166b-ab24-4ce7-bdb2-d15a4c696bd1",
   "metadata": {},
   "outputs": [
    {
     "data": {
      "text/html": [
       "<div>\n",
       "<style scoped>\n",
       "    .dataframe tbody tr th:only-of-type {\n",
       "        vertical-align: middle;\n",
       "    }\n",
       "\n",
       "    .dataframe tbody tr th {\n",
       "        vertical-align: top;\n",
       "    }\n",
       "\n",
       "    .dataframe thead th {\n",
       "        text-align: right;\n",
       "    }\n",
       "</style>\n",
       "<table border=\"1\" class=\"dataframe\">\n",
       "  <thead>\n",
       "    <tr style=\"text-align: right;\">\n",
       "      <th></th>\n",
       "      <th>sales</th>\n",
       "    </tr>\n",
       "    <tr>\n",
       "      <th>Date</th>\n",
       "      <th></th>\n",
       "    </tr>\n",
       "  </thead>\n",
       "  <tbody>\n",
       "    <tr>\n",
       "      <th>2013-11-07 13:00:00</th>\n",
       "      <td>830</td>\n",
       "    </tr>\n",
       "    <tr>\n",
       "      <th>2013-11-07 13:15:00</th>\n",
       "      <td>885</td>\n",
       "    </tr>\n",
       "    <tr>\n",
       "      <th>2013-11-07 13:30:00</th>\n",
       "      <td>938</td>\n",
       "    </tr>\n",
       "    <tr>\n",
       "      <th>2013-11-07 13:45:00</th>\n",
       "      <td>804</td>\n",
       "    </tr>\n",
       "    <tr>\n",
       "      <th>2013-11-07 14:00:00</th>\n",
       "      <td>793</td>\n",
       "    </tr>\n",
       "  </tbody>\n",
       "</table>\n",
       "</div>"
      ],
      "text/plain": [
       "                     sales\n",
       "Date                      \n",
       "2013-11-07 13:00:00    830\n",
       "2013-11-07 13:15:00    885\n",
       "2013-11-07 13:30:00    938\n",
       "2013-11-07 13:45:00    804\n",
       "2013-11-07 14:00:00    793"
      ]
     },
     "execution_count": 3,
     "metadata": {},
     "output_type": "execute_result"
    }
   ],
   "source": [
    "# convert to datatime\n",
    "sales['Date'] = pd.to_datetime(sales['Date'])\n",
    "sales.set_index('Date', inplace = True)\n",
    "sales.sort_index(inplace = True)\n",
    "sales.columns = ['sales']\n",
    "sales.head()"
   ]
  },
  {
   "cell_type": "markdown",
   "id": "f41a73f8-0579-468b-9c59-eb8b94b4881e",
   "metadata": {},
   "source": [
    "## Explore the data"
   ]
  },
  {
   "cell_type": "code",
   "execution_count": 4,
   "id": "139e272d-3bd7-4da4-ba8a-20a8ec3e8e29",
   "metadata": {},
   "outputs": [
    {
     "data": {
      "image/png": "[encoded data removed]",
      "text/plain": [
       "<Figure size 432x288 with 1 Axes>"
      ]
     },
     "metadata": {
      "needs_background": "light"
     },
     "output_type": "display_data"
    }
   ],
   "source": [
    "sales.plot();"
   ]
  },
  {
   "cell_type": "markdown",
   "id": "6c28e29b-270b-49a3-aa7e-f1db9eab8a69",
   "metadata": {},
   "source": [
    " The initial plot is hard to interpret.  There seems to be some spikes, and one very large sales day"
   ]
  },
  {
   "cell_type": "code",
   "execution_count": 5,
   "id": "3807bb58-0822-44df-9364-2a26d08d710f",
   "metadata": {},
   "outputs": [
    {
     "data": {
      "text/html": [
       "<div>\n",
       "<style scoped>\n",
       "    .dataframe tbody tr th:only-of-type {\n",
       "        vertical-align: middle;\n",
       "    }\n",
       "\n",
       "    .dataframe tbody tr th {\n",
       "        vertical-align: top;\n",
       "    }\n",
       "\n",
       "    .dataframe thead th {\n",
       "        text-align: right;\n",
       "    }\n",
       "</style>\n",
       "<table border=\"1\" class=\"dataframe\">\n",
       "  <thead>\n",
       "    <tr style=\"text-align: right;\">\n",
       "      <th></th>\n",
       "      <th>sales</th>\n",
       "    </tr>\n",
       "    <tr>\n",
       "      <th>Date</th>\n",
       "      <th></th>\n",
       "    </tr>\n",
       "  </thead>\n",
       "  <tbody>\n",
       "    <tr>\n",
       "      <th>2017-06-01</th>\n",
       "      <td>32374</td>\n",
       "    </tr>\n",
       "    <tr>\n",
       "      <th>2017-06-02</th>\n",
       "      <td>33793</td>\n",
       "    </tr>\n",
       "    <tr>\n",
       "      <th>2017-06-03</th>\n",
       "      <td>35803</td>\n",
       "    </tr>\n",
       "    <tr>\n",
       "      <th>2017-06-04</th>\n",
       "      <td>26336</td>\n",
       "    </tr>\n",
       "    <tr>\n",
       "      <th>2017-06-05</th>\n",
       "      <td>31970</td>\n",
       "    </tr>\n",
       "    <tr>\n",
       "      <th>2017-06-06</th>\n",
       "      <td>32515</td>\n",
       "    </tr>\n",
       "    <tr>\n",
       "      <th>2017-06-07</th>\n",
       "      <td>35050</td>\n",
       "    </tr>\n",
       "    <tr>\n",
       "      <th>2017-06-08</th>\n",
       "      <td>34255</td>\n",
       "    </tr>\n",
       "    <tr>\n",
       "      <th>2017-06-09</th>\n",
       "      <td>35783</td>\n",
       "    </tr>\n",
       "    <tr>\n",
       "      <th>2017-06-10</th>\n",
       "      <td>35723</td>\n",
       "    </tr>\n",
       "    <tr>\n",
       "      <th>2017-06-11</th>\n",
       "      <td>27070</td>\n",
       "    </tr>\n",
       "    <tr>\n",
       "      <th>2017-06-12</th>\n",
       "      <td>29407</td>\n",
       "    </tr>\n",
       "    <tr>\n",
       "      <th>2017-06-13</th>\n",
       "      <td>32979</td>\n",
       "    </tr>\n",
       "    <tr>\n",
       "      <th>2017-06-14</th>\n",
       "      <td>35240</td>\n",
       "    </tr>\n",
       "    <tr>\n",
       "      <th>2017-06-15</th>\n",
       "      <td>35051</td>\n",
       "    </tr>\n",
       "    <tr>\n",
       "      <th>2017-06-16</th>\n",
       "      <td>35803</td>\n",
       "    </tr>\n",
       "    <tr>\n",
       "      <th>2017-06-17</th>\n",
       "      <td>37589</td>\n",
       "    </tr>\n",
       "    <tr>\n",
       "      <th>2017-06-18</th>\n",
       "      <td>25015</td>\n",
       "    </tr>\n",
       "    <tr>\n",
       "      <th>2017-06-19</th>\n",
       "      <td>36568</td>\n",
       "    </tr>\n",
       "    <tr>\n",
       "      <th>2017-06-20</th>\n",
       "      <td>33917</td>\n",
       "    </tr>\n",
       "    <tr>\n",
       "      <th>2017-06-21</th>\n",
       "      <td>34041</td>\n",
       "    </tr>\n",
       "    <tr>\n",
       "      <th>2017-06-22</th>\n",
       "      <td>33956</td>\n",
       "    </tr>\n",
       "    <tr>\n",
       "      <th>2017-06-23</th>\n",
       "      <td>33380</td>\n",
       "    </tr>\n",
       "    <tr>\n",
       "      <th>2017-06-24</th>\n",
       "      <td>35897</td>\n",
       "    </tr>\n",
       "    <tr>\n",
       "      <th>2017-06-25</th>\n",
       "      <td>28356</td>\n",
       "    </tr>\n",
       "    <tr>\n",
       "      <th>2017-06-26</th>\n",
       "      <td>34592</td>\n",
       "    </tr>\n",
       "    <tr>\n",
       "      <th>2017-06-27</th>\n",
       "      <td>31905</td>\n",
       "    </tr>\n",
       "    <tr>\n",
       "      <th>2017-06-28</th>\n",
       "      <td>33515</td>\n",
       "    </tr>\n",
       "    <tr>\n",
       "      <th>2017-06-29</th>\n",
       "      <td>32715</td>\n",
       "    </tr>\n",
       "    <tr>\n",
       "      <th>2017-06-30</th>\n",
       "      <td>33560</td>\n",
       "    </tr>\n",
       "  </tbody>\n",
       "</table>\n",
       "</div>"
      ],
      "text/plain": [
       "            sales\n",
       "Date             \n",
       "2017-06-01  32374\n",
       "2017-06-02  33793\n",
       "2017-06-03  35803\n",
       "2017-06-04  26336\n",
       "2017-06-05  31970\n",
       "2017-06-06  32515\n",
       "2017-06-07  35050\n",
       "2017-06-08  34255\n",
       "2017-06-09  35783\n",
       "2017-06-10  35723\n",
       "2017-06-11  27070\n",
       "2017-06-12  29407\n",
       "2017-06-13  32979\n",
       "2017-06-14  35240\n",
       "2017-06-15  35051\n",
       "2017-06-16  35803\n",
       "2017-06-17  37589\n",
       "2017-06-18  25015\n",
       "2017-06-19  36568\n",
       "2017-06-20  33917\n",
       "2017-06-21  34041\n",
       "2017-06-22  33956\n",
       "2017-06-23  33380\n",
       "2017-06-24  35897\n",
       "2017-06-25  28356\n",
       "2017-06-26  34592\n",
       "2017-06-27  31905\n",
       "2017-06-28  33515\n",
       "2017-06-29  32715\n",
       "2017-06-30  33560"
      ]
     },
     "execution_count": 5,
     "metadata": {},
     "output_type": "execute_result"
    }
   ],
   "source": [
    "#Since we are predicting June 2018 look at June 2017\n",
    "prev_month_total = sales['2017-06'].resample('d').sum().dropna()\n",
    "prev_month_total"
   ]
  },
  {
   "cell_type": "code",
   "execution_count": 6,
   "id": "06bc2192-b7f0-413d-b2fa-938f7113c454",
   "metadata": {},
   "outputs": [
    {
     "data": {
      "text/html": [
       "<div>\n",
       "<style scoped>\n",
       "    .dataframe tbody tr th:only-of-type {\n",
       "        vertical-align: middle;\n",
       "    }\n",
       "\n",
       "    .dataframe tbody tr th {\n",
       "        vertical-align: top;\n",
       "    }\n",
       "\n",
       "    .dataframe thead th {\n",
       "        text-align: right;\n",
       "    }\n",
       "</style>\n",
       "<table border=\"1\" class=\"dataframe\">\n",
       "  <thead>\n",
       "    <tr style=\"text-align: right;\">\n",
       "      <th></th>\n",
       "      <th>sales</th>\n",
       "    </tr>\n",
       "  </thead>\n",
       "  <tbody>\n",
       "    <tr>\n",
       "      <th>count</th>\n",
       "      <td>30.000000</td>\n",
       "    </tr>\n",
       "    <tr>\n",
       "      <th>mean</th>\n",
       "      <td>33138.600000</td>\n",
       "    </tr>\n",
       "    <tr>\n",
       "      <th>std</th>\n",
       "      <td>3079.325717</td>\n",
       "    </tr>\n",
       "    <tr>\n",
       "      <th>min</th>\n",
       "      <td>25015.000000</td>\n",
       "    </tr>\n",
       "    <tr>\n",
       "      <th>25%</th>\n",
       "      <td>32409.250000</td>\n",
       "    </tr>\n",
       "    <tr>\n",
       "      <th>50%</th>\n",
       "      <td>33855.000000</td>\n",
       "    </tr>\n",
       "    <tr>\n",
       "      <th>75%</th>\n",
       "      <td>35192.750000</td>\n",
       "    </tr>\n",
       "    <tr>\n",
       "      <th>max</th>\n",
       "      <td>37589.000000</td>\n",
       "    </tr>\n",
       "  </tbody>\n",
       "</table>\n",
       "</div>"
      ],
      "text/plain": [
       "              sales\n",
       "count     30.000000\n",
       "mean   33138.600000\n",
       "std     3079.325717\n",
       "min    25015.000000\n",
       "25%    32409.250000\n",
       "50%    33855.000000\n",
       "75%    35192.750000\n",
       "max    37589.000000"
      ]
     },
     "execution_count": 6,
     "metadata": {},
     "output_type": "execute_result"
    }
   ],
   "source": [
    "prev_month_total.describe()"
   ]
  },
  {
   "cell_type": "code",
   "execution_count": 7,
   "id": "700ed233-16ef-49f0-834a-709f0c600eca",
   "metadata": {},
   "outputs": [
    {
     "data": {
      "text/html": [
       "<div>\n",
       "<style scoped>\n",
       "    .dataframe tbody tr th:only-of-type {\n",
       "        vertical-align: middle;\n",
       "    }\n",
       "\n",
       "    .dataframe tbody tr th {\n",
       "        vertical-align: top;\n",
       "    }\n",
       "\n",
       "    .dataframe thead th {\n",
       "        text-align: right;\n",
       "    }\n",
       "</style>\n",
       "<table border=\"1\" class=\"dataframe\">\n",
       "  <thead>\n",
       "    <tr style=\"text-align: right;\">\n",
       "      <th></th>\n",
       "      <th>sales</th>\n",
       "    </tr>\n",
       "  </thead>\n",
       "  <tbody>\n",
       "    <tr>\n",
       "      <th>count</th>\n",
       "      <td>30.000000</td>\n",
       "    </tr>\n",
       "    <tr>\n",
       "      <th>mean</th>\n",
       "      <td>803.912942</td>\n",
       "    </tr>\n",
       "    <tr>\n",
       "      <th>std</th>\n",
       "      <td>23.513583</td>\n",
       "    </tr>\n",
       "    <tr>\n",
       "      <th>min</th>\n",
       "      <td>770.809524</td>\n",
       "    </tr>\n",
       "    <tr>\n",
       "      <th>25%</th>\n",
       "      <td>786.828224</td>\n",
       "    </tr>\n",
       "    <tr>\n",
       "      <th>50%</th>\n",
       "      <td>798.487224</td>\n",
       "    </tr>\n",
       "    <tr>\n",
       "      <th>75%</th>\n",
       "      <td>815.481312</td>\n",
       "    </tr>\n",
       "    <tr>\n",
       "      <th>max</th>\n",
       "      <td>854.295455</td>\n",
       "    </tr>\n",
       "  </tbody>\n",
       "</table>\n",
       "</div>"
      ],
      "text/plain": [
       "            sales\n",
       "count   30.000000\n",
       "mean   803.912942\n",
       "std     23.513583\n",
       "min    770.809524\n",
       "25%    786.828224\n",
       "50%    798.487224\n",
       "75%    815.481312\n",
       "max    854.295455"
      ]
     },
     "execution_count": 7,
     "metadata": {},
     "output_type": "execute_result"
    }
   ],
   "source": [
    "#look at the mean sales for each day of the previous years month\n",
    "prev_month_mean = sales['2017-06'].resample('d').mean().dropna()\n",
    "prev_month_mean.describe()"
   ]
  },
  {
   "cell_type": "code",
   "execution_count": 8,
   "id": "b8348432-21cc-4adf-9af8-83c6c5d59a0d",
   "metadata": {},
   "outputs": [
    {
     "data": {
      "image/png": "[encoded data removed]",
      "text/plain": [
       "<Figure size 432x288 with 1 Axes>"
      ]
     },
     "metadata": {
      "needs_background": "light"
     },
     "output_type": "display_data"
    }
   ],
   "source": [
    "sales_month = sales.resample('M').mean()\n",
    "sales_month.plot()\n",
    "plt.title('Resampled on Month');"
   ]
  },
  {
   "cell_type": "markdown",
   "id": "ede3071b-f735-436c-8e18-26750d5852f3",
   "metadata": {},
   "source": [
    "When we look at the Monthly mean we can clearly see a seasonal pattern and trend.  Every December there is a huge spike in sales and there is an increase in sales year over year from 2014 to 2018 although it has leveled off some from 2016 to 2018."
   ]
  },
  {
   "cell_type": "code",
   "execution_count": 9,
   "id": "eb57e26f-50df-43f7-b11f-4f8573631b0d",
   "metadata": {},
   "outputs": [
    {
     "data": {
      "image/png": "[encoded data removed]",
      "text/plain": [
       "<Figure size 432x288 with 1 Axes>"
      ]
     },
     "metadata": {
      "needs_background": "light"
     },
     "output_type": "display_data"
    }
   ],
   "source": [
    "sales_2017 = sales['2017'].resample('M').mean()\n",
    "sales_2017.plot();"
   ]
  },
  {
   "cell_type": "code",
   "execution_count": 10,
   "id": "ede6950e-e263-4603-b656-106d366a393c",
   "metadata": {},
   "outputs": [
    {
     "data": {
      "image/png": "[encoded data removed]",
      "text/plain": [
       "<Figure size 1440x720 with 4 Axes>"
      ]
     },
     "metadata": {
      "needs_background": "light"
     },
     "output_type": "display_data"
    }
   ],
   "source": [
    "fig, ax = plt.subplots(2,2, figsize=(20,10))\n",
    "\n",
    "\n",
    "ax[0,0].plot(sales['2014'].resample('M').mean())\n",
    "\n",
    "ax[1,0].plot(sales['2015'].resample('M').mean())\n",
    "ax[0,1].plot(sales['2016'].resample('M').mean())\n",
    "ax[1,1].plot(sales['2017'].resample('M').mean())\n",
    "plt.show();"
   ]
  },
  {
   "cell_type": "markdown",
   "id": "1d767ff0-ce55-4481-a388-15b3af4517c3",
   "metadata": {},
   "source": [
    "Investigating the other 3 cyclic spikes in sales they appear to be every August and then in early spring/summer (April, May, or June) and at the begining of the year in February."
   ]
  },
  {
   "cell_type": "code",
   "execution_count": 11,
   "id": "29cca097-feff-4a05-a085-acafa5e767a5",
   "metadata": {},
   "outputs": [
    {
     "data": {
      "image/png": "[encoded data removed]",
      "text/plain": [
       "<Figure size 432x288 with 1 Axes>"
      ]
     },
     "metadata": {
      "needs_background": "light"
     },
     "output_type": "display_data"
    }
   ],
   "source": [
    "#What does a typical week look like (Sunday to Saturday)\n",
    "sales_2017_week = sales.loc['2017-05-07': '2017-05-13'].resample('D').mean()\n",
    "sales_2017_week.plot()\n",
    "plt.title('week 1 of May');"
   ]
  },
  {
   "cell_type": "code",
   "execution_count": 12,
   "id": "cac03149-743d-4349-be42-02f7e867dc17",
   "metadata": {},
   "outputs": [
    {
     "data": {
      "image/png": "[encoded data removed]",
      "text/plain": [
       "<Figure size 432x288 with 1 Axes>"
      ]
     },
     "metadata": {
      "needs_background": "light"
     },
     "output_type": "display_data"
    }
   ],
   "source": [
    "sales_2017_week = sales.loc['2017-05-16': '2017-05-20'].resample('D').mean()\n",
    "sales_2017_week.plot()\n",
    "plt.title('week 2 of May');"
   ]
  },
  {
   "cell_type": "code",
   "execution_count": 13,
   "id": "cea16b80-dc14-4efa-8e69-3ce2078fe4a3",
   "metadata": {},
   "outputs": [
    {
     "data": {
      "image/png": "[encoded data removed]",
      "text/plain": [
       "<Figure size 432x288 with 1 Axes>"
      ]
     },
     "metadata": {
      "needs_background": "light"
     },
     "output_type": "display_data"
    }
   ],
   "source": [
    "sales_2017_week = sales.loc['2017-05-21': '2017-05-27'].resample('D').mean()\n",
    "sales_2017_week.plot();\n",
    "plt.title('week 3 of May');"
   ]
  },
  {
   "cell_type": "code",
   "execution_count": 14,
   "id": "98147b89-5777-4239-a871-85a68142bb8a",
   "metadata": {},
   "outputs": [
    {
     "data": {
      "image/png": "[encoded data removed]",
      "text/plain": [
       "<Figure size 432x288 with 1 Axes>"
      ]
     },
     "metadata": {
      "needs_background": "light"
     },
     "output_type": "display_data"
    }
   ],
   "source": [
    "sales_2017_week = sales.loc['2017-05-28': '2017-06-03'].resample('D').mean()\n",
    "sales_2017_week.plot()\n",
    "plt.title('week 4 of May');"
   ]
  },
  {
   "cell_type": "markdown",
   "id": "3e9d49e6-809d-49be-ace7-73245224954f",
   "metadata": {},
   "source": [
    "### Looking at each week from the previous year (2017) for the month of June we see strongest sales on Sunday and weakest sales Monday and Tuesday with a general recovery toward the end of the week"
   ]
  },
  {
   "cell_type": "code",
   "execution_count": 15,
   "id": "e7824418-e62f-4f6a-a208-b101522735e2",
   "metadata": {},
   "outputs": [
    {
     "data": {
      "text/plain": [
       "2013-12-23    69\n",
       "2014-11-28    67\n",
       "2016-12-23    67\n",
       "2014-12-23    65\n",
       "2017-11-24    65\n",
       "              ..\n",
       "2014-01-19    27\n",
       "2014-03-30    27\n",
       "2014-04-27    27\n",
       "2014-02-02    26\n",
       "2013-11-07    11\n",
       "Name: Date, Length: 1623, dtype: int64"
      ]
     },
     "execution_count": 15,
     "metadata": {},
     "output_type": "execute_result"
    }
   ],
   "source": [
    "# number of days in dataset\n",
    "unique_days = sales.index.normalize().value_counts()\n",
    "unique_days"
   ]
  },
  {
   "cell_type": "markdown",
   "id": "efe8ad65-3055-41d2-bdd0-9ad2b02842fa",
   "metadata": {},
   "source": [
    "### Find min and max time looking for typical store hours"
   ]
  },
  {
   "cell_type": "code",
   "execution_count": 16,
   "id": "5eaab5b9-a746-45a4-a7e1-f61bfe273059",
   "metadata": {},
   "outputs": [
    {
     "data": {
      "text/html": [
       "<div>\n",
       "<style scoped>\n",
       "    .dataframe tbody tr th:only-of-type {\n",
       "        vertical-align: middle;\n",
       "    }\n",
       "\n",
       "    .dataframe tbody tr th {\n",
       "        vertical-align: top;\n",
       "    }\n",
       "\n",
       "    .dataframe thead th {\n",
       "        text-align: right;\n",
       "    }\n",
       "</style>\n",
       "<table border=\"1\" class=\"dataframe\">\n",
       "  <thead>\n",
       "    <tr style=\"text-align: right;\">\n",
       "      <th></th>\n",
       "      <th>sales</th>\n",
       "    </tr>\n",
       "    <tr>\n",
       "      <th>Date</th>\n",
       "      <th></th>\n",
       "    </tr>\n",
       "  </thead>\n",
       "  <tbody>\n",
       "    <tr>\n",
       "      <th>2013-11-08 19:00:00</th>\n",
       "      <td>775</td>\n",
       "    </tr>\n",
       "    <tr>\n",
       "      <th>2013-11-09 19:00:00</th>\n",
       "      <td>890</td>\n",
       "    </tr>\n",
       "    <tr>\n",
       "      <th>2013-11-10 19:00:00</th>\n",
       "      <td>1156</td>\n",
       "    </tr>\n",
       "    <tr>\n",
       "      <th>2013-11-11 19:00:00</th>\n",
       "      <td>731</td>\n",
       "    </tr>\n",
       "    <tr>\n",
       "      <th>2013-11-12 19:00:00</th>\n",
       "      <td>908</td>\n",
       "    </tr>\n",
       "    <tr>\n",
       "      <th>...</th>\n",
       "      <td>...</td>\n",
       "    </tr>\n",
       "    <tr>\n",
       "      <th>2018-05-02 19:00:00</th>\n",
       "      <td>742</td>\n",
       "    </tr>\n",
       "    <tr>\n",
       "      <th>2018-05-03 19:00:00</th>\n",
       "      <td>840</td>\n",
       "    </tr>\n",
       "    <tr>\n",
       "      <th>2018-05-04 19:00:00</th>\n",
       "      <td>929</td>\n",
       "    </tr>\n",
       "    <tr>\n",
       "      <th>2018-05-05 19:00:00</th>\n",
       "      <td>941</td>\n",
       "    </tr>\n",
       "    <tr>\n",
       "      <th>2018-05-06 19:00:00</th>\n",
       "      <td>759</td>\n",
       "    </tr>\n",
       "  </tbody>\n",
       "</table>\n",
       "<p>1426 rows × 1 columns</p>\n",
       "</div>"
      ],
      "text/plain": [
       "                     sales\n",
       "Date                      \n",
       "2013-11-08 19:00:00    775\n",
       "2013-11-09 19:00:00    890\n",
       "2013-11-10 19:00:00   1156\n",
       "2013-11-11 19:00:00    731\n",
       "2013-11-12 19:00:00    908\n",
       "...                    ...\n",
       "2018-05-02 19:00:00    742\n",
       "2018-05-03 19:00:00    840\n",
       "2018-05-04 19:00:00    929\n",
       "2018-05-05 19:00:00    941\n",
       "2018-05-06 19:00:00    759\n",
       "\n",
       "[1426 rows x 1 columns]"
      ]
     },
     "execution_count": 16,
     "metadata": {},
     "output_type": "execute_result"
    }
   ],
   "source": [
    "#original thought was looking for store core hours.  Look at how many rows match each hour\n",
    "match = \"19:00:00\"\n",
    "sales.loc[sales.index.strftime(\"%H:%M:%S\") == match]"
   ]
  },
  {
   "cell_type": "code",
   "execution_count": 17,
   "id": "418776f9-f2fd-463a-9103-464caa0ddff9",
   "metadata": {},
   "outputs": [
    {
     "data": {
      "text/plain": [
       "(67058, 1)"
      ]
     },
     "execution_count": 17,
     "metadata": {},
     "output_type": "execute_result"
    }
   ],
   "source": [
    "sales.shape"
   ]
  },
  {
   "cell_type": "code",
   "execution_count": 18,
   "id": "749439a4-27d6-4ac3-b290-fb076dc98aa7",
   "metadata": {},
   "outputs": [
    {
     "data": {
      "text/html": [
       "<div>\n",
       "<style scoped>\n",
       "    .dataframe tbody tr th:only-of-type {\n",
       "        vertical-align: middle;\n",
       "    }\n",
       "\n",
       "    .dataframe tbody tr th {\n",
       "        vertical-align: top;\n",
       "    }\n",
       "\n",
       "    .dataframe thead th {\n",
       "        text-align: right;\n",
       "    }\n",
       "</style>\n",
       "<table border=\"1\" class=\"dataframe\">\n",
       "  <thead>\n",
       "    <tr style=\"text-align: right;\">\n",
       "      <th></th>\n",
       "      <th>sales</th>\n",
       "    </tr>\n",
       "  </thead>\n",
       "  <tbody>\n",
       "    <tr>\n",
       "      <th>count</th>\n",
       "      <td>67058.000000</td>\n",
       "    </tr>\n",
       "    <tr>\n",
       "      <th>mean</th>\n",
       "      <td>815.701631</td>\n",
       "    </tr>\n",
       "    <tr>\n",
       "      <th>std</th>\n",
       "      <td>100.306658</td>\n",
       "    </tr>\n",
       "    <tr>\n",
       "      <th>min</th>\n",
       "      <td>0.000000</td>\n",
       "    </tr>\n",
       "    <tr>\n",
       "      <th>25%</th>\n",
       "      <td>754.000000</td>\n",
       "    </tr>\n",
       "    <tr>\n",
       "      <th>50%</th>\n",
       "      <td>793.000000</td>\n",
       "    </tr>\n",
       "    <tr>\n",
       "      <th>75%</th>\n",
       "      <td>851.000000</td>\n",
       "    </tr>\n",
       "    <tr>\n",
       "      <th>max</th>\n",
       "      <td>6435.000000</td>\n",
       "    </tr>\n",
       "  </tbody>\n",
       "</table>\n",
       "</div>"
      ],
      "text/plain": [
       "              sales\n",
       "count  67058.000000\n",
       "mean     815.701631\n",
       "std      100.306658\n",
       "min        0.000000\n",
       "25%      754.000000\n",
       "50%      793.000000\n",
       "75%      851.000000\n",
       "max     6435.000000"
      ]
     },
     "execution_count": 18,
     "metadata": {},
     "output_type": "execute_result"
    }
   ],
   "source": [
    "sales.describe()"
   ]
  },
  {
   "cell_type": "markdown",
   "id": "7cce0c15-ce8e-4b62-8374-cdede1e5fdd8",
   "metadata": {},
   "source": [
    "### Investigate the max value of 6435"
   ]
  },
  {
   "cell_type": "code",
   "execution_count": 19,
   "id": "06e9a6d5-0d93-4477-afc3-420382514ea1",
   "metadata": {},
   "outputs": [
    {
     "data": {
      "text/html": [
       "<div>\n",
       "<style scoped>\n",
       "    .dataframe tbody tr th:only-of-type {\n",
       "        vertical-align: middle;\n",
       "    }\n",
       "\n",
       "    .dataframe tbody tr th {\n",
       "        vertical-align: top;\n",
       "    }\n",
       "\n",
       "    .dataframe thead th {\n",
       "        text-align: right;\n",
       "    }\n",
       "</style>\n",
       "<table border=\"1\" class=\"dataframe\">\n",
       "  <thead>\n",
       "    <tr style=\"text-align: right;\">\n",
       "      <th></th>\n",
       "      <th>sales</th>\n",
       "    </tr>\n",
       "    <tr>\n",
       "      <th>Date</th>\n",
       "      <th></th>\n",
       "    </tr>\n",
       "  </thead>\n",
       "  <tbody>\n",
       "    <tr>\n",
       "      <th>2017-07-09 19:15:00</th>\n",
       "      <td>6435</td>\n",
       "    </tr>\n",
       "    <tr>\n",
       "      <th>2015-08-29 14:00:00</th>\n",
       "      <td>3027</td>\n",
       "    </tr>\n",
       "    <tr>\n",
       "      <th>2015-04-11 14:15:00</th>\n",
       "      <td>2987</td>\n",
       "    </tr>\n",
       "    <tr>\n",
       "      <th>2016-01-23 14:15:00</th>\n",
       "      <td>2740</td>\n",
       "    </tr>\n",
       "    <tr>\n",
       "      <th>2016-12-31 17:00:00</th>\n",
       "      <td>2144</td>\n",
       "    </tr>\n",
       "    <tr>\n",
       "      <th>2017-06-19 15:30:00</th>\n",
       "      <td>2075</td>\n",
       "    </tr>\n",
       "    <tr>\n",
       "      <th>2017-06-19 15:45:00</th>\n",
       "      <td>1950</td>\n",
       "    </tr>\n",
       "    <tr>\n",
       "      <th>2016-12-09 22:45:00</th>\n",
       "      <td>1860</td>\n",
       "    </tr>\n",
       "    <tr>\n",
       "      <th>2015-12-19 13:00:00</th>\n",
       "      <td>1832</td>\n",
       "    </tr>\n",
       "    <tr>\n",
       "      <th>2017-10-23 18:45:00</th>\n",
       "      <td>1831</td>\n",
       "    </tr>\n",
       "  </tbody>\n",
       "</table>\n",
       "</div>"
      ],
      "text/plain": [
       "                     sales\n",
       "Date                      \n",
       "2017-07-09 19:15:00   6435\n",
       "2015-08-29 14:00:00   3027\n",
       "2015-04-11 14:15:00   2987\n",
       "2016-01-23 14:15:00   2740\n",
       "2016-12-31 17:00:00   2144\n",
       "2017-06-19 15:30:00   2075\n",
       "2017-06-19 15:45:00   1950\n",
       "2016-12-09 22:45:00   1860\n",
       "2015-12-19 13:00:00   1832\n",
       "2017-10-23 18:45:00   1831"
      ]
     },
     "execution_count": 19,
     "metadata": {},
     "output_type": "execute_result"
    }
   ],
   "source": [
    "top = sales.sort_values('sales', ascending = False)\n",
    "top.columns = ['sales']\n",
    "top.head(10)"
   ]
  },
  {
   "cell_type": "code",
   "execution_count": 20,
   "id": "c9c9328e-a712-4bff-a749-4ed0ff71af85",
   "metadata": {},
   "outputs": [
    {
     "data": {
      "text/html": [
       "<div>\n",
       "<style scoped>\n",
       "    .dataframe tbody tr th:only-of-type {\n",
       "        vertical-align: middle;\n",
       "    }\n",
       "\n",
       "    .dataframe tbody tr th {\n",
       "        vertical-align: top;\n",
       "    }\n",
       "\n",
       "    .dataframe thead th {\n",
       "        text-align: right;\n",
       "    }\n",
       "</style>\n",
       "<table border=\"1\" class=\"dataframe\">\n",
       "  <thead>\n",
       "    <tr style=\"text-align: right;\">\n",
       "      <th></th>\n",
       "      <th>sales</th>\n",
       "    </tr>\n",
       "    <tr>\n",
       "      <th>Date</th>\n",
       "      <th></th>\n",
       "    </tr>\n",
       "  </thead>\n",
       "  <tbody>\n",
       "    <tr>\n",
       "      <th>2017-07-09 10:45:00</th>\n",
       "      <td>739</td>\n",
       "    </tr>\n",
       "    <tr>\n",
       "      <th>2017-07-09 11:00:00</th>\n",
       "      <td>773</td>\n",
       "    </tr>\n",
       "    <tr>\n",
       "      <th>2017-07-09 11:15:00</th>\n",
       "      <td>733</td>\n",
       "    </tr>\n",
       "    <tr>\n",
       "      <th>2017-07-09 11:30:00</th>\n",
       "      <td>829</td>\n",
       "    </tr>\n",
       "    <tr>\n",
       "      <th>2017-07-09 11:45:00</th>\n",
       "      <td>767</td>\n",
       "    </tr>\n",
       "    <tr>\n",
       "      <th>2017-07-09 12:00:00</th>\n",
       "      <td>782</td>\n",
       "    </tr>\n",
       "    <tr>\n",
       "      <th>2017-07-09 12:15:00</th>\n",
       "      <td>902</td>\n",
       "    </tr>\n",
       "    <tr>\n",
       "      <th>2017-07-09 12:30:00</th>\n",
       "      <td>764</td>\n",
       "    </tr>\n",
       "    <tr>\n",
       "      <th>2017-07-09 12:45:00</th>\n",
       "      <td>801</td>\n",
       "    </tr>\n",
       "    <tr>\n",
       "      <th>2017-07-09 13:00:00</th>\n",
       "      <td>822</td>\n",
       "    </tr>\n",
       "    <tr>\n",
       "      <th>2017-07-09 13:15:00</th>\n",
       "      <td>783</td>\n",
       "    </tr>\n",
       "    <tr>\n",
       "      <th>2017-07-09 13:30:00</th>\n",
       "      <td>840</td>\n",
       "    </tr>\n",
       "    <tr>\n",
       "      <th>2017-07-09 13:45:00</th>\n",
       "      <td>831</td>\n",
       "    </tr>\n",
       "    <tr>\n",
       "      <th>2017-07-09 14:00:00</th>\n",
       "      <td>822</td>\n",
       "    </tr>\n",
       "    <tr>\n",
       "      <th>2017-07-09 14:15:00</th>\n",
       "      <td>812</td>\n",
       "    </tr>\n",
       "    <tr>\n",
       "      <th>2017-07-09 14:30:00</th>\n",
       "      <td>885</td>\n",
       "    </tr>\n",
       "    <tr>\n",
       "      <th>2017-07-09 14:45:00</th>\n",
       "      <td>866</td>\n",
       "    </tr>\n",
       "    <tr>\n",
       "      <th>2017-07-09 15:00:00</th>\n",
       "      <td>841</td>\n",
       "    </tr>\n",
       "    <tr>\n",
       "      <th>2017-07-09 15:15:00</th>\n",
       "      <td>917</td>\n",
       "    </tr>\n",
       "    <tr>\n",
       "      <th>2017-07-09 15:30:00</th>\n",
       "      <td>971</td>\n",
       "    </tr>\n",
       "    <tr>\n",
       "      <th>2017-07-09 15:45:00</th>\n",
       "      <td>806</td>\n",
       "    </tr>\n",
       "    <tr>\n",
       "      <th>2017-07-09 16:00:00</th>\n",
       "      <td>934</td>\n",
       "    </tr>\n",
       "    <tr>\n",
       "      <th>2017-07-09 16:15:00</th>\n",
       "      <td>742</td>\n",
       "    </tr>\n",
       "    <tr>\n",
       "      <th>2017-07-09 16:30:00</th>\n",
       "      <td>782</td>\n",
       "    </tr>\n",
       "    <tr>\n",
       "      <th>2017-07-09 16:45:00</th>\n",
       "      <td>840</td>\n",
       "    </tr>\n",
       "    <tr>\n",
       "      <th>2017-07-09 17:00:00</th>\n",
       "      <td>793</td>\n",
       "    </tr>\n",
       "    <tr>\n",
       "      <th>2017-07-09 17:15:00</th>\n",
       "      <td>770</td>\n",
       "    </tr>\n",
       "    <tr>\n",
       "      <th>2017-07-09 17:30:00</th>\n",
       "      <td>855</td>\n",
       "    </tr>\n",
       "    <tr>\n",
       "      <th>2017-07-09 17:45:00</th>\n",
       "      <td>735</td>\n",
       "    </tr>\n",
       "    <tr>\n",
       "      <th>2017-07-09 18:00:00</th>\n",
       "      <td>838</td>\n",
       "    </tr>\n",
       "    <tr>\n",
       "      <th>2017-07-09 18:15:00</th>\n",
       "      <td>754</td>\n",
       "    </tr>\n",
       "    <tr>\n",
       "      <th>2017-07-09 18:30:00</th>\n",
       "      <td>751</td>\n",
       "    </tr>\n",
       "    <tr>\n",
       "      <th>2017-07-09 18:45:00</th>\n",
       "      <td>816</td>\n",
       "    </tr>\n",
       "    <tr>\n",
       "      <th>2017-07-09 19:00:00</th>\n",
       "      <td>814</td>\n",
       "    </tr>\n",
       "    <tr>\n",
       "      <th>2017-07-09 19:15:00</th>\n",
       "      <td>6435</td>\n",
       "    </tr>\n",
       "  </tbody>\n",
       "</table>\n",
       "</div>"
      ],
      "text/plain": [
       "                     sales\n",
       "Date                      \n",
       "2017-07-09 10:45:00    739\n",
       "2017-07-09 11:00:00    773\n",
       "2017-07-09 11:15:00    733\n",
       "2017-07-09 11:30:00    829\n",
       "2017-07-09 11:45:00    767\n",
       "2017-07-09 12:00:00    782\n",
       "2017-07-09 12:15:00    902\n",
       "2017-07-09 12:30:00    764\n",
       "2017-07-09 12:45:00    801\n",
       "2017-07-09 13:00:00    822\n",
       "2017-07-09 13:15:00    783\n",
       "2017-07-09 13:30:00    840\n",
       "2017-07-09 13:45:00    831\n",
       "2017-07-09 14:00:00    822\n",
       "2017-07-09 14:15:00    812\n",
       "2017-07-09 14:30:00    885\n",
       "2017-07-09 14:45:00    866\n",
       "2017-07-09 15:00:00    841\n",
       "2017-07-09 15:15:00    917\n",
       "2017-07-09 15:30:00    971\n",
       "2017-07-09 15:45:00    806\n",
       "2017-07-09 16:00:00    934\n",
       "2017-07-09 16:15:00    742\n",
       "2017-07-09 16:30:00    782\n",
       "2017-07-09 16:45:00    840\n",
       "2017-07-09 17:00:00    793\n",
       "2017-07-09 17:15:00    770\n",
       "2017-07-09 17:30:00    855\n",
       "2017-07-09 17:45:00    735\n",
       "2017-07-09 18:00:00    838\n",
       "2017-07-09 18:15:00    754\n",
       "2017-07-09 18:30:00    751\n",
       "2017-07-09 18:45:00    816\n",
       "2017-07-09 19:00:00    814\n",
       "2017-07-09 19:15:00   6435"
      ]
     },
     "execution_count": 20,
     "metadata": {},
     "output_type": "execute_result"
    }
   ],
   "source": [
    "#look at the rest of that day.  Was it a big sales day\n",
    "big_day = sales['2017-07-09']\n",
    "big_day"
   ]
  },
  {
   "cell_type": "markdown",
   "id": "562e4f48-f544-4593-97ab-3907caec9dfc",
   "metadata": {},
   "source": [
    "### Resample to hourly"
   ]
  },
  {
   "cell_type": "code",
   "execution_count": 21,
   "id": "a022afaa-baf0-44b3-995d-a0896d22a01b",
   "metadata": {},
   "outputs": [
    {
     "data": {
      "image/png": "[encoded data removed]",
      "text/plain": [
       "<Figure size 432x288 with 1 Axes>"
      ]
     },
     "metadata": {
      "needs_background": "light"
     },
     "output_type": "display_data"
    }
   ],
   "source": [
    "#Because we are projecting every hour we will resample to be in the same units\n",
    "sales_rs = sales.resample('H').mean()\n",
    "sales_rs.plot();"
   ]
  },
  {
   "cell_type": "code",
   "execution_count": 22,
   "id": "44d07e11-deb9-4085-9ddd-4818dd4850f5",
   "metadata": {},
   "outputs": [
    {
     "data": {
      "text/html": [
       "<div>\n",
       "<style scoped>\n",
       "    .dataframe tbody tr th:only-of-type {\n",
       "        vertical-align: middle;\n",
       "    }\n",
       "\n",
       "    .dataframe tbody tr th {\n",
       "        vertical-align: top;\n",
       "    }\n",
       "\n",
       "    .dataframe thead th {\n",
       "        text-align: right;\n",
       "    }\n",
       "</style>\n",
       "<table border=\"1\" class=\"dataframe\">\n",
       "  <thead>\n",
       "    <tr style=\"text-align: right;\">\n",
       "      <th></th>\n",
       "      <th>sales</th>\n",
       "    </tr>\n",
       "    <tr>\n",
       "      <th>Date</th>\n",
       "      <th></th>\n",
       "    </tr>\n",
       "  </thead>\n",
       "  <tbody>\n",
       "    <tr>\n",
       "      <th>2013-11-07 13:00:00</th>\n",
       "      <td>864.25</td>\n",
       "    </tr>\n",
       "    <tr>\n",
       "      <th>2013-11-07 14:00:00</th>\n",
       "      <td>750.00</td>\n",
       "    </tr>\n",
       "    <tr>\n",
       "      <th>2013-11-07 15:00:00</th>\n",
       "      <td>NaN</td>\n",
       "    </tr>\n",
       "    <tr>\n",
       "      <th>2013-11-07 16:00:00</th>\n",
       "      <td>729.00</td>\n",
       "    </tr>\n",
       "    <tr>\n",
       "      <th>2013-11-07 17:00:00</th>\n",
       "      <td>NaN</td>\n",
       "    </tr>\n",
       "  </tbody>\n",
       "</table>\n",
       "</div>"
      ],
      "text/plain": [
       "                      sales\n",
       "Date                       \n",
       "2013-11-07 13:00:00  864.25\n",
       "2013-11-07 14:00:00  750.00\n",
       "2013-11-07 15:00:00     NaN\n",
       "2013-11-07 16:00:00  729.00\n",
       "2013-11-07 17:00:00     NaN"
      ]
     },
     "execution_count": 22,
     "metadata": {},
     "output_type": "execute_result"
    }
   ],
   "source": [
    "sales_rs.head()"
   ]
  },
  {
   "cell_type": "markdown",
   "id": "48001e9d-4ea5-4cdd-8794-69ced07af75e",
   "metadata": {},
   "source": [
    "As we can see this created a lot of null values"
   ]
  },
  {
   "cell_type": "code",
   "execution_count": 23,
   "id": "d5dc3360-9e52-42b6-bff6-831b82ed27bd",
   "metadata": {},
   "outputs": [
    {
     "data": {
      "text/plain": [
       "(39391, 1)"
      ]
     },
     "execution_count": 23,
     "metadata": {},
     "output_type": "execute_result"
    }
   ],
   "source": [
    "sales_rs.shape"
   ]
  },
  {
   "cell_type": "code",
   "execution_count": 24,
   "id": "580ff3f0-40e8-4148-b336-aead27baf536",
   "metadata": {},
   "outputs": [
    {
     "data": {
      "text/plain": [
       "sales    20571\n",
       "dtype: int64"
      ]
     },
     "execution_count": 24,
     "metadata": {},
     "output_type": "execute_result"
    }
   ],
   "source": [
    "sales_rs.isna().sum()"
   ]
  },
  {
   "cell_type": "code",
   "execution_count": 25,
   "id": "6782f0ba-ed12-421a-bfdc-a4f6c155b004",
   "metadata": {},
   "outputs": [
    {
     "data": {
      "text/plain": [
       "sales    253\n",
       "dtype: int64"
      ]
     },
     "execution_count": 25,
     "metadata": {},
     "output_type": "execute_result"
    }
   ],
   "source": [
    "#check number of nulls in core hours\n",
    "sales_rs_day = sales_rs.between_time('11:00:00' , '19:00:00')\n",
    "sales_rs_day.isna().sum()"
   ]
  },
  {
   "cell_type": "code",
   "execution_count": 26,
   "id": "ef38fbe1-ed01-4d3e-8101-e31b0346e64f",
   "metadata": {},
   "outputs": [
    {
     "data": {
      "text/html": [
       "<div>\n",
       "<style scoped>\n",
       "    .dataframe tbody tr th:only-of-type {\n",
       "        vertical-align: middle;\n",
       "    }\n",
       "\n",
       "    .dataframe tbody tr th {\n",
       "        vertical-align: top;\n",
       "    }\n",
       "\n",
       "    .dataframe thead th {\n",
       "        text-align: right;\n",
       "    }\n",
       "</style>\n",
       "<table border=\"1\" class=\"dataframe\">\n",
       "  <thead>\n",
       "    <tr style=\"text-align: right;\">\n",
       "      <th></th>\n",
       "      <th>sales</th>\n",
       "    </tr>\n",
       "    <tr>\n",
       "      <th>Date</th>\n",
       "      <th></th>\n",
       "    </tr>\n",
       "  </thead>\n",
       "  <tbody>\n",
       "    <tr>\n",
       "      <th>2013-11-07 13:00:00</th>\n",
       "      <td>864.25</td>\n",
       "    </tr>\n",
       "    <tr>\n",
       "      <th>2013-11-07 14:00:00</th>\n",
       "      <td>750.00</td>\n",
       "    </tr>\n",
       "    <tr>\n",
       "      <th>2013-11-07 15:00:00</th>\n",
       "      <td>NaN</td>\n",
       "    </tr>\n",
       "    <tr>\n",
       "      <th>2013-11-07 16:00:00</th>\n",
       "      <td>729.00</td>\n",
       "    </tr>\n",
       "    <tr>\n",
       "      <th>2013-11-07 17:00:00</th>\n",
       "      <td>NaN</td>\n",
       "    </tr>\n",
       "  </tbody>\n",
       "</table>\n",
       "</div>"
      ],
      "text/plain": [
       "                      sales\n",
       "Date                       \n",
       "2013-11-07 13:00:00  864.25\n",
       "2013-11-07 14:00:00  750.00\n",
       "2013-11-07 15:00:00     NaN\n",
       "2013-11-07 16:00:00  729.00\n",
       "2013-11-07 17:00:00     NaN"
      ]
     },
     "execution_count": 26,
     "metadata": {},
     "output_type": "execute_result"
    }
   ],
   "source": [
    "sales_rs.head()"
   ]
  },
  {
   "cell_type": "code",
   "execution_count": 27,
   "id": "92a15c08-4ba7-4415-8875-bf3e1396871c",
   "metadata": {},
   "outputs": [
    {
     "data": {
      "text/plain": [
       "sales    20571\n",
       "dtype: int64"
      ]
     },
     "execution_count": 27,
     "metadata": {},
     "output_type": "execute_result"
    }
   ],
   "source": [
    "sales_rs.isna().sum()"
   ]
  },
  {
   "cell_type": "code",
   "execution_count": 28,
   "id": "c1422dfc-ec44-4109-b0ec-b6c52d3045c4",
   "metadata": {},
   "outputs": [],
   "source": [
    "sales_rs.dropna(inplace=True)"
   ]
  },
  {
   "cell_type": "code",
   "execution_count": 29,
   "id": "5cdc598f-d894-4f51-bc58-8336634acabd",
   "metadata": {},
   "outputs": [
    {
     "data": {
      "text/plain": [
       "(18820, 1)"
      ]
     },
     "execution_count": 29,
     "metadata": {},
     "output_type": "execute_result"
    }
   ],
   "source": [
    "sales_rs.shape"
   ]
  },
  {
   "cell_type": "code",
   "execution_count": 30,
   "id": "06db5047-08b6-4867-87b6-63cccdc30a51",
   "metadata": {},
   "outputs": [
    {
     "data": {
      "text/plain": [
       "sales    0\n",
       "dtype: int64"
      ]
     },
     "execution_count": 30,
     "metadata": {},
     "output_type": "execute_result"
    }
   ],
   "source": [
    "sales_rs.isna().sum()"
   ]
  },
  {
   "cell_type": "markdown",
   "id": "3674fb11-a942-4022-abc1-a62159ad58bd",
   "metadata": {},
   "source": [
    "### Do I need to Diff??"
   ]
  },
  {
   "cell_type": "code",
   "execution_count": 31,
   "id": "41c11611-6221-4a4f-b78d-de76a0d00c53",
   "metadata": {},
   "outputs": [
    {
     "data": {
      "text/plain": [
       "(-10.36368295282687,\n",
       " 2.3604244586118723e-18,\n",
       " 45,\n",
       " 18774,\n",
       " {'1%': -3.4306983644579865,\n",
       "  '5%': -2.861693964293079,\n",
       "  '10%': -2.5668519510824446},\n",
       " 204259.5035984037)"
      ]
     },
     "execution_count": 31,
     "metadata": {},
     "output_type": "execute_result"
    }
   ],
   "source": [
    "#Augmented Dickey-Fuller test\n",
    "from statsmodels.tsa.stattools import adfuller\n",
    "\n",
    "adfuller(sales_rs)"
   ]
  },
  {
   "cell_type": "code",
   "execution_count": 32,
   "id": "adbd2480-3ada-4d34-a60a-292424c4dc24",
   "metadata": {},
   "outputs": [],
   "source": [
    "#The p-value is the second value: 9.38 e-21\n",
    "#This is sufficiently below .05 and the data does not need to be diff for stationarity"
   ]
  },
  {
   "cell_type": "markdown",
   "id": "e067147e-8edd-4a20-ab3d-d8167e81f8cd",
   "metadata": {},
   "source": [
    "## Look at Autocorrelation and P ACF"
   ]
  },
  {
   "cell_type": "code",
   "execution_count": 36,
   "id": "583346d5-eff1-4300-83f8-8743152c5a34",
   "metadata": {},
   "outputs": [
    {
     "data": {
      "image/png": "[encoded data removed]",
      "text/plain": [
       "<Figure size 432x288 with 1 Axes>"
      ]
     },
     "execution_count": 36,
     "metadata": {},
     "output_type": "execute_result"
    },
    {
     "data": {
      "image/png": "[encoded data removed]",
      "text/plain": [
       "<Figure size 432x288 with 1 Axes>"
      ]
     },
     "metadata": {
      "needs_background": "light"
     },
     "output_type": "display_data"
    }
   ],
   "source": [
    "plot_acf(sales_rs['sales'], lags = 30)"
   ]
  },
  {
   "cell_type": "code",
   "execution_count": 34,
   "id": "c54ee943-f9a3-4d13-85c1-d0266435f9a0",
   "metadata": {},
   "outputs": [
    {
     "name": "stderr",
     "output_type": "stream",
     "text": [
      "C:\\Users\\eswan\\anaconda3\\envs\\projects\\lib\\site-packages\\statsmodels\\graphics\\tsaplots.py:348: FutureWarning: The default method 'yw' can produce PACF values outside of the [-1,1] interval. After 0.13, the default will change tounadjusted Yule-Walker ('ywm'). You can use this method now by setting method='ywm'.\n",
      "  warnings.warn(\n"
     ]
    },
    {
     "data": {
      "image/png": "[encoded data removed]",
      "text/plain": [
       "<Figure size 432x288 with 1 Axes>"
      ]
     },
     "execution_count": 34,
     "metadata": {},
     "output_type": "execute_result"
    },
    {
     "data": {
      "image/png": "[encoded data removed]",
      "text/plain": [
       "<Figure size 432x288 with 1 Axes>"
      ]
     },
     "metadata": {
      "needs_background": "light"
     },
     "output_type": "display_data"
    }
   ],
   "source": [
    "plot_pacf(sales_rs['sales'], lags = 30)"
   ]
  },
  {
   "cell_type": "markdown",
   "id": "678cd4ad-7baa-4036-9aac-0060bd787a43",
   "metadata": {},
   "source": [
    "## Base Model"
   ]
  },
  {
   "cell_type": "code",
   "execution_count": 37,
   "id": "6c07fd5e-65dd-4898-b203-48c5c5d7a76b",
   "metadata": {},
   "outputs": [
    {
     "data": {
      "text/html": [
       "<div>\n",
       "<style scoped>\n",
       "    .dataframe tbody tr th:only-of-type {\n",
       "        vertical-align: middle;\n",
       "    }\n",
       "\n",
       "    .dataframe tbody tr th {\n",
       "        vertical-align: top;\n",
       "    }\n",
       "\n",
       "    .dataframe thead th {\n",
       "        text-align: right;\n",
       "    }\n",
       "</style>\n",
       "<table border=\"1\" class=\"dataframe\">\n",
       "  <thead>\n",
       "    <tr style=\"text-align: right;\">\n",
       "      <th></th>\n",
       "      <th>sales</th>\n",
       "      <th>forecast_sales</th>\n",
       "    </tr>\n",
       "    <tr>\n",
       "      <th>Date</th>\n",
       "      <th></th>\n",
       "      <th></th>\n",
       "    </tr>\n",
       "  </thead>\n",
       "  <tbody>\n",
       "    <tr>\n",
       "      <th>2013-11-07 13:00:00</th>\n",
       "      <td>830</td>\n",
       "      <td>815</td>\n",
       "    </tr>\n",
       "    <tr>\n",
       "      <th>2013-11-07 13:15:00</th>\n",
       "      <td>885</td>\n",
       "      <td>815</td>\n",
       "    </tr>\n",
       "    <tr>\n",
       "      <th>2013-11-07 13:30:00</th>\n",
       "      <td>938</td>\n",
       "      <td>815</td>\n",
       "    </tr>\n",
       "    <tr>\n",
       "      <th>2013-11-07 13:45:00</th>\n",
       "      <td>804</td>\n",
       "      <td>815</td>\n",
       "    </tr>\n",
       "    <tr>\n",
       "      <th>2013-11-07 14:00:00</th>\n",
       "      <td>793</td>\n",
       "      <td>815</td>\n",
       "    </tr>\n",
       "  </tbody>\n",
       "</table>\n",
       "</div>"
      ],
      "text/plain": [
       "                     sales  forecast_sales\n",
       "Date                                      \n",
       "2013-11-07 13:00:00    830             815\n",
       "2013-11-07 13:15:00    885             815\n",
       "2013-11-07 13:30:00    938             815\n",
       "2013-11-07 13:45:00    804             815\n",
       "2013-11-07 14:00:00    793             815"
      ]
     },
     "execution_count": 37,
     "metadata": {},
     "output_type": "execute_result"
    }
   ],
   "source": [
    "#forecast using the dataset mean since we are projecting so much data into the future\n",
    "base_model = sales.copy()\n",
    "base_model['forecast_sales'] = 815\n",
    "base_model.head()"
   ]
  },
  {
   "cell_type": "code",
   "execution_count": 39,
   "id": "6bbba841-e2d1-4ed6-a8d9-7d0fb81d5eb8",
   "metadata": {},
   "outputs": [
    {
     "data": {
      "text/plain": [
       "100.30836407006565"
      ]
     },
     "execution_count": 39,
     "metadata": {},
     "output_type": "execute_result"
    }
   ],
   "source": [
    "base_model_error = mean_squared_error(base_model.sales, base_model.forecast_sales)\n",
    "np.sqrt(base_model_error)"
   ]
  },
  {
   "cell_type": "markdown",
   "id": "984e20b8-fdbf-4475-8538-905dfc706b66",
   "metadata": {},
   "source": [
    "## Build the model"
   ]
  },
  {
   "cell_type": "code",
   "execution_count": 40,
   "id": "898a5b1e-0217-4846-af7b-3fcdde82af5c",
   "metadata": {},
   "outputs": [],
   "source": [
    "import warnings\n",
    "warnings.filterwarnings('ignore')"
   ]
  },
  {
   "cell_type": "code",
   "execution_count": 42,
   "id": "76cd7d00-63a9-4f26-8637-bbaeddf3a727",
   "metadata": {},
   "outputs": [],
   "source": [
    "sales_train = sales_rs.sales.loc[:'2018-04-05 19:00:00']\n",
    "sales_test = sales_rs.sales.loc['2018-04-06 10:15:00': '2018-05-06 19:00:00']"
   ]
  },
  {
   "cell_type": "code",
   "execution_count": 43,
   "id": "5ba18411-2eca-4c82-8d7a-a2f8338990b7",
   "metadata": {},
   "outputs": [
    {
     "data": {
      "text/plain": [
       "356"
      ]
     },
     "execution_count": 43,
     "metadata": {},
     "output_type": "execute_result"
    }
   ],
   "source": [
    "len(sales_test)"
   ]
  },
  {
   "cell_type": "markdown",
   "id": "eea8a2fe-28a3-483b-9824-f08582ed307d",
   "metadata": {},
   "source": [
    "## SARIMAX"
   ]
  },
  {
   "cell_type": "code",
   "execution_count": 109,
   "id": "7eb749b5-dca8-43eb-af7d-1d050a8e2cd2",
   "metadata": {},
   "outputs": [],
   "source": [
    "model = SARIMAX(sales_train, order=(3, 1, 2),\n",
    "              seasonal_order=(2, 1, 0, 12),\n",
    "              enforce_stationarity=False,\n",
    "              enforce_invertibility=False)\n",
    "results = model.fit()"
   ]
  },
  {
   "cell_type": "code",
   "execution_count": 45,
   "id": "fd70ac70-76c5-4b6f-9fb1-95c42f3230f6",
   "metadata": {},
   "outputs": [
    {
     "data": {
      "text/plain": [
       "356"
      ]
     },
     "execution_count": 45,
     "metadata": {},
     "output_type": "execute_result"
    }
   ],
   "source": [
    "len(sales_test)"
   ]
  },
  {
   "cell_type": "code",
   "execution_count": 83,
   "id": "d8e9b125-b81c-451b-a9ab-fb6d9f2a3cba",
   "metadata": {},
   "outputs": [],
   "source": [
    "forecast = results.predict(start = len(sales_train),\n",
    "                           end=len(sales_train)+365,\n",
    "                           typ='levels').rename('Predict')"
   ]
  },
  {
   "cell_type": "code",
   "execution_count": 47,
   "id": "397f627a-621a-4b80-85d4-4b485353460e",
   "metadata": {},
   "outputs": [
    {
     "data": {
      "text/html": [
       "<div>\n",
       "<style scoped>\n",
       "    .dataframe tbody tr th:only-of-type {\n",
       "        vertical-align: middle;\n",
       "    }\n",
       "\n",
       "    .dataframe tbody tr th {\n",
       "        vertical-align: top;\n",
       "    }\n",
       "\n",
       "    .dataframe thead th {\n",
       "        text-align: right;\n",
       "    }\n",
       "</style>\n",
       "<table border=\"1\" class=\"dataframe\">\n",
       "  <thead>\n",
       "    <tr style=\"text-align: right;\">\n",
       "      <th></th>\n",
       "      <th>Predict</th>\n",
       "    </tr>\n",
       "  </thead>\n",
       "  <tbody>\n",
       "    <tr>\n",
       "      <th>0</th>\n",
       "      <td>773.083291</td>\n",
       "    </tr>\n",
       "    <tr>\n",
       "      <th>1</th>\n",
       "      <td>835.451690</td>\n",
       "    </tr>\n",
       "    <tr>\n",
       "      <th>2</th>\n",
       "      <td>777.053428</td>\n",
       "    </tr>\n",
       "    <tr>\n",
       "      <th>3</th>\n",
       "      <td>779.915620</td>\n",
       "    </tr>\n",
       "    <tr>\n",
       "      <th>4</th>\n",
       "      <td>761.199633</td>\n",
       "    </tr>\n",
       "  </tbody>\n",
       "</table>\n",
       "</div>"
      ],
      "text/plain": [
       "      Predict\n",
       "0  773.083291\n",
       "1  835.451690\n",
       "2  777.053428\n",
       "3  779.915620\n",
       "4  761.199633"
      ]
     },
     "execution_count": 47,
     "metadata": {},
     "output_type": "execute_result"
    }
   ],
   "source": [
    "forecast_df = pd.DataFrame(forecast)\n",
    "forecast_df.reset_index(drop=True, inplace=True)\n",
    "forecast_df.head()"
   ]
  },
  {
   "cell_type": "code",
   "execution_count": 71,
   "id": "49962778-e33c-47a2-8447-626e7ad31d61",
   "metadata": {},
   "outputs": [
    {
     "data": {
      "text/html": [
       "<div>\n",
       "<style scoped>\n",
       "    .dataframe tbody tr th:only-of-type {\n",
       "        vertical-align: middle;\n",
       "    }\n",
       "\n",
       "    .dataframe tbody tr th {\n",
       "        vertical-align: top;\n",
       "    }\n",
       "\n",
       "    .dataframe thead th {\n",
       "        text-align: right;\n",
       "    }\n",
       "</style>\n",
       "<table border=\"1\" class=\"dataframe\">\n",
       "  <thead>\n",
       "    <tr style=\"text-align: right;\">\n",
       "      <th></th>\n",
       "      <th>sales</th>\n",
       "      <th>date</th>\n",
       "    </tr>\n",
       "  </thead>\n",
       "  <tbody>\n",
       "    <tr>\n",
       "      <th>0</th>\n",
       "      <td>789.25</td>\n",
       "      <td>2018-04-06 11:00:00</td>\n",
       "    </tr>\n",
       "    <tr>\n",
       "      <th>1</th>\n",
       "      <td>867.00</td>\n",
       "      <td>2018-04-06 12:00:00</td>\n",
       "    </tr>\n",
       "    <tr>\n",
       "      <th>2</th>\n",
       "      <td>770.50</td>\n",
       "      <td>2018-04-06 13:00:00</td>\n",
       "    </tr>\n",
       "    <tr>\n",
       "      <th>3</th>\n",
       "      <td>867.00</td>\n",
       "      <td>2018-04-06 14:00:00</td>\n",
       "    </tr>\n",
       "    <tr>\n",
       "      <th>4</th>\n",
       "      <td>826.00</td>\n",
       "      <td>2018-04-06 15:00:00</td>\n",
       "    </tr>\n",
       "  </tbody>\n",
       "</table>\n",
       "</div>"
      ],
      "text/plain": [
       "    sales                date\n",
       "0  789.25 2018-04-06 11:00:00\n",
       "1  867.00 2018-04-06 12:00:00\n",
       "2  770.50 2018-04-06 13:00:00\n",
       "3  867.00 2018-04-06 14:00:00\n",
       "4  826.00 2018-04-06 15:00:00"
      ]
     },
     "execution_count": 71,
     "metadata": {},
     "output_type": "execute_result"
    }
   ],
   "source": [
    "#Create a df with test size values\n",
    "new = pd.DataFrame(sales_test)\n",
    "new['date'] = new.index\n",
    "new.reset_index(drop=True, inplace=True)\n",
    "new.head()"
   ]
  },
  {
   "cell_type": "code",
   "execution_count": 72,
   "id": "70a54bf0-3c52-42ee-bd6c-5c3870784dcf",
   "metadata": {},
   "outputs": [
    {
     "data": {
      "text/html": [
       "<div>\n",
       "<style scoped>\n",
       "    .dataframe tbody tr th:only-of-type {\n",
       "        vertical-align: middle;\n",
       "    }\n",
       "\n",
       "    .dataframe tbody tr th {\n",
       "        vertical-align: top;\n",
       "    }\n",
       "\n",
       "    .dataframe thead th {\n",
       "        text-align: right;\n",
       "    }\n",
       "</style>\n",
       "<table border=\"1\" class=\"dataframe\">\n",
       "  <thead>\n",
       "    <tr style=\"text-align: right;\">\n",
       "      <th></th>\n",
       "      <th>sales</th>\n",
       "      <th>Predict</th>\n",
       "    </tr>\n",
       "    <tr>\n",
       "      <th>date</th>\n",
       "      <th></th>\n",
       "      <th></th>\n",
       "    </tr>\n",
       "  </thead>\n",
       "  <tbody>\n",
       "    <tr>\n",
       "      <th>2018-04-06 11:00:00</th>\n",
       "      <td>789.25</td>\n",
       "      <td>773.083291</td>\n",
       "    </tr>\n",
       "    <tr>\n",
       "      <th>2018-04-06 12:00:00</th>\n",
       "      <td>867.00</td>\n",
       "      <td>835.451690</td>\n",
       "    </tr>\n",
       "    <tr>\n",
       "      <th>2018-04-06 13:00:00</th>\n",
       "      <td>770.50</td>\n",
       "      <td>777.053428</td>\n",
       "    </tr>\n",
       "    <tr>\n",
       "      <th>2018-04-06 14:00:00</th>\n",
       "      <td>867.00</td>\n",
       "      <td>779.915620</td>\n",
       "    </tr>\n",
       "    <tr>\n",
       "      <th>2018-04-06 15:00:00</th>\n",
       "      <td>826.00</td>\n",
       "      <td>761.199633</td>\n",
       "    </tr>\n",
       "  </tbody>\n",
       "</table>\n",
       "</div>"
      ],
      "text/plain": [
       "                      sales     Predict\n",
       "date                                   \n",
       "2018-04-06 11:00:00  789.25  773.083291\n",
       "2018-04-06 12:00:00  867.00  835.451690\n",
       "2018-04-06 13:00:00  770.50  777.053428\n",
       "2018-04-06 14:00:00  867.00  779.915620\n",
       "2018-04-06 15:00:00  826.00  761.199633"
      ]
     },
     "execution_count": 72,
     "metadata": {},
     "output_type": "execute_result"
    }
   ],
   "source": [
    "results = pd.concat([new, forecast_df], axis=1)\n",
    "results.set_index('date', inplace=True)\n",
    "results.head()"
   ]
  },
  {
   "cell_type": "code",
   "execution_count": 73,
   "id": "740b1e7d-1fab-4a7d-bcb4-3d591e418fdc",
   "metadata": {},
   "outputs": [
    {
     "data": {
      "image/png": "[encoded data removed]",
      "text/plain": [
       "<Figure size 864x576 with 1 Axes>"
      ]
     },
     "metadata": {
      "needs_background": "light"
     },
     "output_type": "display_data"
    }
   ],
   "source": [
    "results['sales'][:50].plot(figsize=(12,8),legend=True)\n",
    "results['Predict'][:50].plot(legend=True);"
   ]
  },
  {
   "cell_type": "code",
   "execution_count": 75,
   "id": "7df564f3-5001-46dc-b0ea-87b0d3c92cad",
   "metadata": {},
   "outputs": [
    {
     "data": {
      "image/png": "[encoded data removed]",
      "text/plain": [
       "<Figure size 1440x720 with 1 Axes>"
      ]
     },
     "metadata": {
      "needs_background": "light"
     },
     "output_type": "display_data"
    }
   ],
   "source": [
    "plt.figure(figsize=(20,10))\n",
    "\n",
    "# Plot testing data.\n",
    "plt.plot(results['sales'][:50], color = 'orange', label='Test Data')\n",
    "\n",
    "# Plot predicted test values.\n",
    "plt.plot(results['Predict'][:50], color = 'green', label='Predictions')\n",
    "\n",
    "# Set label.\n",
    "plt.title(label = 'Forecasting Hourly sales', fontsize=24)\n",
    "\n",
    "# Resize tick marks.\n",
    "plt.xticks(fontsize=20,rotation=70)\n",
    "plt.yticks(fontsize=20)\n",
    "\n",
    "plt.legend(loc='best', prop={'size': 20});"
   ]
  },
  {
   "cell_type": "code",
   "execution_count": 54,
   "id": "4dc2ba9a-4488-442a-aa89-ed623f8d4211",
   "metadata": {},
   "outputs": [
    {
     "data": {
      "text/plain": [
       "sales      10\n",
       "Predict     0\n",
       "dtype: int64"
      ]
     },
     "execution_count": 54,
     "metadata": {},
     "output_type": "execute_result"
    }
   ],
   "source": [
    "results.isna().sum()"
   ]
  },
  {
   "cell_type": "code",
   "execution_count": 58,
   "id": "315c8cd0-612d-45cb-8a45-08cccdc5fce2",
   "metadata": {},
   "outputs": [],
   "source": [
    "results.dropna(inplace=True)"
   ]
  },
  {
   "cell_type": "code",
   "execution_count": 59,
   "id": "f0a98761-a626-49a4-87cc-c0b836f30002",
   "metadata": {},
   "outputs": [
    {
     "data": {
      "text/plain": [
       "59.85735035881236"
      ]
     },
     "execution_count": 59,
     "metadata": {},
     "output_type": "execute_result"
    }
   ],
   "source": [
    "mean_squared_error(results['sales'], results['Predict']) ** 0.5"
   ]
  },
  {
   "cell_type": "code",
   "execution_count": 110,
   "id": "9632efbb-0003-44ab-93df-bff9f0a81383",
   "metadata": {},
   "outputs": [],
   "source": [
    "forecast_sales_may = results.predict(start = len(sales_rs),\n",
    "                           end=len(sales_rs)+722,\n",
    "                           typ='levels').rename('Sales_Predict')"
   ]
  },
  {
   "cell_type": "code",
   "execution_count": 111,
   "id": "d25cb2c3-ed02-4aad-9eca-91e6d3879061",
   "metadata": {},
   "outputs": [
    {
     "data": {
      "text/plain": [
       "18820    797.555908\n",
       "18821    768.167698\n",
       "18822    801.929601\n",
       "18823    774.347994\n",
       "18824    776.050799\n",
       "            ...    \n",
       "19538    749.637596\n",
       "19539    776.454557\n",
       "19540    793.548099\n",
       "19541    764.159889\n",
       "19542    797.921792\n",
       "Name: Sales_Predict, Length: 723, dtype: float64"
      ]
     },
     "execution_count": 111,
     "metadata": {},
     "output_type": "execute_result"
    }
   ],
   "source": [
    "forecast_sales_may"
   ]
  },
  {
   "cell_type": "code",
   "execution_count": 112,
   "id": "d172e3ab-1e6c-4d2f-a8eb-104ff173c515",
   "metadata": {},
   "outputs": [
    {
     "data": {
      "text/html": [
       "<div>\n",
       "<style scoped>\n",
       "    .dataframe tbody tr th:only-of-type {\n",
       "        vertical-align: middle;\n",
       "    }\n",
       "\n",
       "    .dataframe tbody tr th {\n",
       "        vertical-align: top;\n",
       "    }\n",
       "\n",
       "    .dataframe thead th {\n",
       "        text-align: right;\n",
       "    }\n",
       "</style>\n",
       "<table border=\"1\" class=\"dataframe\">\n",
       "  <thead>\n",
       "    <tr style=\"text-align: right;\">\n",
       "      <th></th>\n",
       "      <th>Sales_Predict</th>\n",
       "    </tr>\n",
       "  </thead>\n",
       "  <tbody>\n",
       "    <tr>\n",
       "      <th>0</th>\n",
       "      <td>797.555908</td>\n",
       "    </tr>\n",
       "    <tr>\n",
       "      <th>1</th>\n",
       "      <td>768.167698</td>\n",
       "    </tr>\n",
       "    <tr>\n",
       "      <th>2</th>\n",
       "      <td>801.929601</td>\n",
       "    </tr>\n",
       "    <tr>\n",
       "      <th>3</th>\n",
       "      <td>774.347994</td>\n",
       "    </tr>\n",
       "    <tr>\n",
       "      <th>4</th>\n",
       "      <td>776.050799</td>\n",
       "    </tr>\n",
       "  </tbody>\n",
       "</table>\n",
       "</div>"
      ],
      "text/plain": [
       "   Sales_Predict\n",
       "0     797.555908\n",
       "1     768.167698\n",
       "2     801.929601\n",
       "3     774.347994\n",
       "4     776.050799"
      ]
     },
     "execution_count": 112,
     "metadata": {},
     "output_type": "execute_result"
    }
   ],
   "source": [
    "forecast_May_df = pd.DataFrame(forecast_sales_may)\n",
    "forecast_May_df.reset_index(drop=True, inplace=True)\n",
    "forecast_May_df.head()"
   ]
  },
  {
   "cell_type": "code",
   "execution_count": 113,
   "id": "508f5d7b-de87-4ec7-a6f5-4a3eb62e821b",
   "metadata": {},
   "outputs": [
    {
     "data": {
      "text/html": [
       "<div>\n",
       "<style scoped>\n",
       "    .dataframe tbody tr th:only-of-type {\n",
       "        vertical-align: middle;\n",
       "    }\n",
       "\n",
       "    .dataframe tbody tr th {\n",
       "        vertical-align: top;\n",
       "    }\n",
       "\n",
       "    .dataframe thead th {\n",
       "        text-align: right;\n",
       "    }\n",
       "</style>\n",
       "<table border=\"1\" class=\"dataframe\">\n",
       "  <thead>\n",
       "    <tr style=\"text-align: right;\">\n",
       "      <th></th>\n",
       "      <th>Hours</th>\n",
       "    </tr>\n",
       "  </thead>\n",
       "  <tbody>\n",
       "    <tr>\n",
       "      <th>0</th>\n",
       "      <td>2018-05-06 22:00:00</td>\n",
       "    </tr>\n",
       "    <tr>\n",
       "      <th>1</th>\n",
       "      <td>2018-05-06 23:00:00</td>\n",
       "    </tr>\n",
       "    <tr>\n",
       "      <th>2</th>\n",
       "      <td>2018-05-07 00:00:00</td>\n",
       "    </tr>\n",
       "    <tr>\n",
       "      <th>3</th>\n",
       "      <td>2018-05-07 01:00:00</td>\n",
       "    </tr>\n",
       "    <tr>\n",
       "      <th>4</th>\n",
       "      <td>2018-05-07 02:00:00</td>\n",
       "    </tr>\n",
       "  </tbody>\n",
       "</table>\n",
       "</div>"
      ],
      "text/plain": [
       "                Hours\n",
       "0 2018-05-06 22:00:00\n",
       "1 2018-05-06 23:00:00\n",
       "2 2018-05-07 00:00:00\n",
       "3 2018-05-07 01:00:00\n",
       "4 2018-05-07 02:00:00"
      ]
     },
     "execution_count": 113,
     "metadata": {},
     "output_type": "execute_result"
    }
   ],
   "source": [
    "#Create a dataframe with the dates to forecast\n",
    "sales_forecast = pd.DataFrame({'Hours': pd.date_range('2018-05-06 22:00:00', '2018-06-06', freq='1H', closed='left')})\n",
    "sales_forecast.head()"
   ]
  },
  {
   "cell_type": "code",
   "execution_count": 114,
   "id": "fe23102e-5275-44c7-a9d9-4f0690aa4b6d",
   "metadata": {},
   "outputs": [
    {
     "data": {
      "text/plain": [
       "722"
      ]
     },
     "execution_count": 114,
     "metadata": {},
     "output_type": "execute_result"
    }
   ],
   "source": [
    "len(sales_forecast)"
   ]
  },
  {
   "cell_type": "code",
   "execution_count": 119,
   "id": "0f74dc76-4ad6-4831-9f3d-d3867dc3170b",
   "metadata": {},
   "outputs": [
    {
     "data": {
      "text/html": [
       "<div>\n",
       "<style scoped>\n",
       "    .dataframe tbody tr th:only-of-type {\n",
       "        vertical-align: middle;\n",
       "    }\n",
       "\n",
       "    .dataframe tbody tr th {\n",
       "        vertical-align: top;\n",
       "    }\n",
       "\n",
       "    .dataframe thead th {\n",
       "        text-align: right;\n",
       "    }\n",
       "</style>\n",
       "<table border=\"1\" class=\"dataframe\">\n",
       "  <thead>\n",
       "    <tr style=\"text-align: right;\">\n",
       "      <th></th>\n",
       "      <th>Sales_Predict</th>\n",
       "    </tr>\n",
       "    <tr>\n",
       "      <th>Hours</th>\n",
       "      <th></th>\n",
       "    </tr>\n",
       "  </thead>\n",
       "  <tbody>\n",
       "    <tr>\n",
       "      <th>2018-05-06 22:00:00</th>\n",
       "      <td>797.555908</td>\n",
       "    </tr>\n",
       "    <tr>\n",
       "      <th>2018-05-06 23:00:00</th>\n",
       "      <td>768.167698</td>\n",
       "    </tr>\n",
       "    <tr>\n",
       "      <th>2018-05-07 00:00:00</th>\n",
       "      <td>801.929601</td>\n",
       "    </tr>\n",
       "    <tr>\n",
       "      <th>2018-05-07 01:00:00</th>\n",
       "      <td>774.347994</td>\n",
       "    </tr>\n",
       "    <tr>\n",
       "      <th>2018-05-07 02:00:00</th>\n",
       "      <td>776.050799</td>\n",
       "    </tr>\n",
       "  </tbody>\n",
       "</table>\n",
       "</div>"
      ],
      "text/plain": [
       "                     Sales_Predict\n",
       "Hours                             \n",
       "2018-05-06 22:00:00     797.555908\n",
       "2018-05-06 23:00:00     768.167698\n",
       "2018-05-07 00:00:00     801.929601\n",
       "2018-05-07 01:00:00     774.347994\n",
       "2018-05-07 02:00:00     776.050799"
      ]
     },
     "execution_count": 119,
     "metadata": {},
     "output_type": "execute_result"
    }
   ],
   "source": [
    "results = pd.concat([sales_forecast, forecast_May_df], axis=1)\n",
    "results.set_index('Hours', inplace=True)\n",
    "results.head()"
   ]
  },
  {
   "cell_type": "code",
   "execution_count": 106,
   "id": "999dd27f-6619-43dc-8054-f9b4b7277f72",
   "metadata": {},
   "outputs": [
    {
     "data": {
      "text/plain": [
       "366"
      ]
     },
     "execution_count": 106,
     "metadata": {},
     "output_type": "execute_result"
    }
   ],
   "source": [
    "len(results)"
   ]
  },
  {
   "cell_type": "code",
   "execution_count": 120,
   "id": "d2448ce9-b5d9-41fd-ac6a-f33745fee771",
   "metadata": {},
   "outputs": [],
   "source": [
    "results.to_csv('sales_prediction.csv')"
   ]
  },
  {
   "cell_type": "code",
   "execution_count": 121,
   "id": "c89b4e75-ffd8-4c24-8f62-a4263a16f7de",
   "metadata": {},
   "outputs": [
    {
     "data": {
      "text/html": [
       "<div>\n",
       "<style scoped>\n",
       "    .dataframe tbody tr th:only-of-type {\n",
       "        vertical-align: middle;\n",
       "    }\n",
       "\n",
       "    .dataframe tbody tr th {\n",
       "        vertical-align: top;\n",
       "    }\n",
       "\n",
       "    .dataframe thead th {\n",
       "        text-align: right;\n",
       "    }\n",
       "</style>\n",
       "<table border=\"1\" class=\"dataframe\">\n",
       "  <thead>\n",
       "    <tr style=\"text-align: right;\">\n",
       "      <th></th>\n",
       "      <th>Hours</th>\n",
       "      <th>Sales_Predict</th>\n",
       "    </tr>\n",
       "  </thead>\n",
       "  <tbody>\n",
       "    <tr>\n",
       "      <th>0</th>\n",
       "      <td>2018-05-06 22:00:00</td>\n",
       "      <td>797.555908</td>\n",
       "    </tr>\n",
       "    <tr>\n",
       "      <th>1</th>\n",
       "      <td>2018-05-06 23:00:00</td>\n",
       "      <td>768.167698</td>\n",
       "    </tr>\n",
       "    <tr>\n",
       "      <th>2</th>\n",
       "      <td>2018-05-07 00:00:00</td>\n",
       "      <td>801.929601</td>\n",
       "    </tr>\n",
       "    <tr>\n",
       "      <th>3</th>\n",
       "      <td>2018-05-07 01:00:00</td>\n",
       "      <td>774.347994</td>\n",
       "    </tr>\n",
       "    <tr>\n",
       "      <th>4</th>\n",
       "      <td>2018-05-07 02:00:00</td>\n",
       "      <td>776.050799</td>\n",
       "    </tr>\n",
       "  </tbody>\n",
       "</table>\n",
       "</div>"
      ],
      "text/plain": [
       "                 Hours  Sales_Predict\n",
       "0  2018-05-06 22:00:00     797.555908\n",
       "1  2018-05-06 23:00:00     768.167698\n",
       "2  2018-05-07 00:00:00     801.929601\n",
       "3  2018-05-07 01:00:00     774.347994\n",
       "4  2018-05-07 02:00:00     776.050799"
      ]
     },
     "execution_count": 121,
     "metadata": {},
     "output_type": "execute_result"
    }
   ],
   "source": [
    "#check format is okay\n",
    "sales_predicitons = pd.read_csv('sales_prediction.csv')\n",
    "sales_predicitons.head()"
   ]
  }
 ],
 "metadata": {
  "kernelspec": {
   "display_name": "Python 3",
   "language": "python",
   "name": "python3"
  },
  "language_info": {
   "codemirror_mode": {
    "name": "ipython",
    "version": 3
   },
   "file_extension": ".py",
   "mimetype": "text/x-python",
   "name": "python",
   "nbconvert_exporter": "python",
   "pygments_lexer": "ipython3",
   "version": "3.8.12"
  }
 },
 "nbformat": 4,
 "nbformat_minor": 5
}
